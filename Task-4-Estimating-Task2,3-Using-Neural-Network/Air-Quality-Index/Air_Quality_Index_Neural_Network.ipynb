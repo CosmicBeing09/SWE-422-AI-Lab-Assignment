{
  "nbformat": 4,
  "nbformat_minor": 0,
  "metadata": {
    "colab": {
      "name": "Air_Quality_Index_Neural_Network.ipynb",
      "provenance": []
    },
    "kernelspec": {
      "name": "python3",
      "display_name": "Python 3"
    }
  },
  "cells": [
    {
      "cell_type": "code",
      "metadata": {
        "colab": {
          "resources": {
            "http://localhost:8080/nbextensions/google.colab/files.js": {
              "data": "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",
              "ok": true,
              "headers": [
                [
                  "content-type",
                  "application/javascript"
                ]
              ],
              "status": 200,
              "status_text": ""
            }
          },
          "base_uri": "https://localhost:8080/",
          "height": 73
        },
        "id": "wrmJDevlp3xv",
        "outputId": "e73acd50-e303-4d56-a1f9-2822287d4791"
      },
      "source": [
        "import pandas as pd\r\n",
        "import matplotlib.pyplot as plt\r\n",
        "import csv\r\n",
        "import numpy as np\r\n",
        "import seaborn as sns\r\n",
        "from google.colab import files\r\n",
        "uploaded = files.upload()"
      ],
      "execution_count": 1,
      "outputs": [
        {
          "output_type": "display_data",
          "data": {
            "text/html": [
              "\n",
              "     <input type=\"file\" id=\"files-2b39c2d3-c98b-4110-8c7e-134f6f9893e8\" name=\"files[]\" multiple disabled\n",
              "        style=\"border:none\" />\n",
              "     <output id=\"result-2b39c2d3-c98b-4110-8c7e-134f6f9893e8\">\n",
              "      Upload widget is only available when the cell has been executed in the\n",
              "      current browser session. Please rerun this cell to enable.\n",
              "      </output>\n",
              "      <script src=\"/nbextensions/google.colab/files.js\"></script> "
            ],
            "text/plain": [
              "<IPython.core.display.HTML object>"
            ]
          },
          "metadata": {
            "tags": []
          }
        },
        {
          "output_type": "stream",
          "text": [
            "Saving Real_Combine.csv to Real_Combine.csv\n"
          ],
          "name": "stdout"
        }
      ]
    },
    {
      "cell_type": "code",
      "metadata": {
        "id": "VpcIvq_OuErg"
      },
      "source": [
        "df=pd.read_csv('Real_Combine.csv')"
      ],
      "execution_count": 2,
      "outputs": []
    },
    {
      "cell_type": "code",
      "metadata": {
        "colab": {
          "base_uri": "https://localhost:8080/",
          "height": 195
        },
        "id": "62ZTKaBguMQs",
        "outputId": "0238195f-e2d4-4f12-8bfc-0ec397d5d280"
      },
      "source": [
        "df.head()"
      ],
      "execution_count": 3,
      "outputs": [
        {
          "output_type": "execute_result",
          "data": {
            "text/html": [
              "<div>\n",
              "<style scoped>\n",
              "    .dataframe tbody tr th:only-of-type {\n",
              "        vertical-align: middle;\n",
              "    }\n",
              "\n",
              "    .dataframe tbody tr th {\n",
              "        vertical-align: top;\n",
              "    }\n",
              "\n",
              "    .dataframe thead th {\n",
              "        text-align: right;\n",
              "    }\n",
              "</style>\n",
              "<table border=\"1\" class=\"dataframe\">\n",
              "  <thead>\n",
              "    <tr style=\"text-align: right;\">\n",
              "      <th></th>\n",
              "      <th>T</th>\n",
              "      <th>TM</th>\n",
              "      <th>Tm</th>\n",
              "      <th>SLP</th>\n",
              "      <th>H</th>\n",
              "      <th>VV</th>\n",
              "      <th>V</th>\n",
              "      <th>VM</th>\n",
              "      <th>PM2.5</th>\n",
              "    </tr>\n",
              "  </thead>\n",
              "  <tbody>\n",
              "    <tr>\n",
              "      <th>0</th>\n",
              "      <td>29.3</td>\n",
              "      <td>34.1</td>\n",
              "      <td>26.5</td>\n",
              "      <td>1004.7</td>\n",
              "      <td>83.0</td>\n",
              "      <td>4.5</td>\n",
              "      <td>1.9</td>\n",
              "      <td>3.5</td>\n",
              "      <td>73.0</td>\n",
              "    </tr>\n",
              "    <tr>\n",
              "      <th>1</th>\n",
              "      <td>29.0</td>\n",
              "      <td>34.0</td>\n",
              "      <td>25.8</td>\n",
              "      <td>1007.0</td>\n",
              "      <td>79.0</td>\n",
              "      <td>4.5</td>\n",
              "      <td>0.6</td>\n",
              "      <td>3.5</td>\n",
              "      <td>93.0</td>\n",
              "    </tr>\n",
              "    <tr>\n",
              "      <th>2</th>\n",
              "      <td>28.9</td>\n",
              "      <td>32.3</td>\n",
              "      <td>27.2</td>\n",
              "      <td>1008.5</td>\n",
              "      <td>84.0</td>\n",
              "      <td>5.0</td>\n",
              "      <td>0.7</td>\n",
              "      <td>3.5</td>\n",
              "      <td>176.0</td>\n",
              "    </tr>\n",
              "    <tr>\n",
              "      <th>3</th>\n",
              "      <td>28.1</td>\n",
              "      <td>33.0</td>\n",
              "      <td>26.4</td>\n",
              "      <td>1004.8</td>\n",
              "      <td>84.0</td>\n",
              "      <td>4.5</td>\n",
              "      <td>0.7</td>\n",
              "      <td>3.5</td>\n",
              "      <td>198.0</td>\n",
              "    </tr>\n",
              "    <tr>\n",
              "      <th>4</th>\n",
              "      <td>28.8</td>\n",
              "      <td>33.5</td>\n",
              "      <td>26.6</td>\n",
              "      <td>1004.3</td>\n",
              "      <td>79.0</td>\n",
              "      <td>4.7</td>\n",
              "      <td>0.6</td>\n",
              "      <td>3.5</td>\n",
              "      <td>205.0</td>\n",
              "    </tr>\n",
              "  </tbody>\n",
              "</table>\n",
              "</div>"
            ],
            "text/plain": [
              "      T    TM    Tm     SLP     H   VV    V   VM  PM2.5\n",
              "0  29.3  34.1  26.5  1004.7  83.0  4.5  1.9  3.5   73.0\n",
              "1  29.0  34.0  25.8  1007.0  79.0  4.5  0.6  3.5   93.0\n",
              "2  28.9  32.3  27.2  1008.5  84.0  5.0  0.7  3.5  176.0\n",
              "3  28.1  33.0  26.4  1004.8  84.0  4.5  0.7  3.5  198.0\n",
              "4  28.8  33.5  26.6  1004.3  79.0  4.7  0.6  3.5  205.0"
            ]
          },
          "metadata": {
            "tags": []
          },
          "execution_count": 3
        }
      ]
    },
    {
      "cell_type": "code",
      "metadata": {
        "id": "iUE-l8BbuR0m"
      },
      "source": [
        "## droping null value\r\n",
        "df=df.dropna()\r\n",
        "\r\n",
        "X=df.iloc[:,:-1]\r\n",
        "y=df.iloc[:,-1]"
      ],
      "execution_count": 4,
      "outputs": []
    },
    {
      "cell_type": "code",
      "metadata": {
        "id": "8l8I6EpWuWla"
      },
      "source": [
        "from sklearn.model_selection import train_test_split\r\n",
        "X_train, X_test, y_train, y_test = train_test_split(X, y, test_size=0.1, random_state=0)"
      ],
      "execution_count": 5,
      "outputs": []
    },
    {
      "cell_type": "code",
      "metadata": {
        "id": "rgKTXaFXucfC"
      },
      "source": [
        "import keras\r\n",
        "from keras.models import Sequential\r\n",
        "from keras.layers import Dense\r\n",
        "from keras.layers import LeakyReLU,PReLU,ELU\r\n",
        "from keras.layers import Dropout"
      ],
      "execution_count": 6,
      "outputs": []
    },
    {
      "cell_type": "code",
      "metadata": {
        "colab": {
          "base_uri": "https://localhost:8080/"
        },
        "id": "ZeZRL9vQulAW",
        "outputId": "aa46c18f-b0ec-4ed3-ad2d-dae63fdf3ef6"
      },
      "source": [
        "NN_model = Sequential()\r\n",
        "\r\n",
        "# The Input Layer :\r\n",
        "NN_model.add(Dense(128, kernel_initializer='normal',input_dim = X_train.shape[1], activation='relu'))\r\n",
        "\r\n",
        "# The Hidden Layers :\r\n",
        "NN_model.add(Dense(256, kernel_initializer='normal',activation='relu'))\r\n",
        "NN_model.add(Dense(256, kernel_initializer='normal',activation='relu'))\r\n",
        "NN_model.add(Dense(256, kernel_initializer='normal',activation='relu'))\r\n",
        "\r\n",
        "# The Output Layer :\r\n",
        "NN_model.add(Dense(1, kernel_initializer='normal',activation='linear'))\r\n",
        "\r\n",
        "# Compile the network :\r\n",
        "NN_model.compile(loss='mean_absolute_error', optimizer='adam', metrics=['mean_absolute_error'])\r\n",
        "NN_model.summary()\r\n",
        "\r\n",
        "# Fitting the ANN to the Training set\r\n",
        "model_history=NN_model.fit(X_train, y_train,validation_split=0.33, batch_size = 10,epochs = 100)"
      ],
      "execution_count": 7,
      "outputs": [
        {
          "output_type": "stream",
          "text": [
            "Model: \"sequential\"\n",
            "_________________________________________________________________\n",
            "Layer (type)                 Output Shape              Param #   \n",
            "=================================================================\n",
            "dense (Dense)                (None, 128)               1152      \n",
            "_________________________________________________________________\n",
            "dense_1 (Dense)              (None, 256)               33024     \n",
            "_________________________________________________________________\n",
            "dense_2 (Dense)              (None, 256)               65792     \n",
            "_________________________________________________________________\n",
            "dense_3 (Dense)              (None, 256)               65792     \n",
            "_________________________________________________________________\n",
            "dense_4 (Dense)              (None, 1)                 257       \n",
            "=================================================================\n",
            "Total params: 166,017\n",
            "Trainable params: 166,017\n",
            "Non-trainable params: 0\n",
            "_________________________________________________________________\n",
            "Epoch 1/100\n",
            "18/18 [==============================] - 1s 33ms/step - loss: 91.8335 - mean_absolute_error: 91.8335 - val_loss: 49.2973 - val_mean_absolute_error: 49.2973\n",
            "Epoch 2/100\n",
            "18/18 [==============================] - 0s 12ms/step - loss: 44.9495 - mean_absolute_error: 44.9495 - val_loss: 46.9885 - val_mean_absolute_error: 46.9885\n",
            "Epoch 3/100\n",
            "18/18 [==============================] - 0s 5ms/step - loss: 48.1604 - mean_absolute_error: 48.1604 - val_loss: 46.7186 - val_mean_absolute_error: 46.7186\n",
            "Epoch 4/100\n",
            "18/18 [==============================] - 0s 5ms/step - loss: 46.3319 - mean_absolute_error: 46.3319 - val_loss: 46.6707 - val_mean_absolute_error: 46.6707\n",
            "Epoch 5/100\n",
            "18/18 [==============================] - 0s 5ms/step - loss: 54.6937 - mean_absolute_error: 54.6937 - val_loss: 50.4364 - val_mean_absolute_error: 50.4364\n",
            "Epoch 6/100\n",
            "18/18 [==============================] - 0s 6ms/step - loss: 49.4509 - mean_absolute_error: 49.4509 - val_loss: 47.9204 - val_mean_absolute_error: 47.9204\n",
            "Epoch 7/100\n",
            "18/18 [==============================] - 0s 6ms/step - loss: 48.8990 - mean_absolute_error: 48.8990 - val_loss: 47.0678 - val_mean_absolute_error: 47.0678\n",
            "Epoch 8/100\n",
            "18/18 [==============================] - 0s 6ms/step - loss: 43.6652 - mean_absolute_error: 43.6652 - val_loss: 46.7590 - val_mean_absolute_error: 46.7590\n",
            "Epoch 9/100\n",
            "18/18 [==============================] - 0s 6ms/step - loss: 49.1498 - mean_absolute_error: 49.1498 - val_loss: 47.0981 - val_mean_absolute_error: 47.0981\n",
            "Epoch 10/100\n",
            "18/18 [==============================] - 0s 6ms/step - loss: 50.1555 - mean_absolute_error: 50.1555 - val_loss: 47.6750 - val_mean_absolute_error: 47.6750\n",
            "Epoch 11/100\n",
            "18/18 [==============================] - 0s 5ms/step - loss: 45.1188 - mean_absolute_error: 45.1188 - val_loss: 46.9119 - val_mean_absolute_error: 46.9119\n",
            "Epoch 12/100\n",
            "18/18 [==============================] - 0s 6ms/step - loss: 49.5761 - mean_absolute_error: 49.5761 - val_loss: 50.9313 - val_mean_absolute_error: 50.9313\n",
            "Epoch 13/100\n",
            "18/18 [==============================] - 0s 6ms/step - loss: 53.8377 - mean_absolute_error: 53.8377 - val_loss: 48.7764 - val_mean_absolute_error: 48.7764\n",
            "Epoch 14/100\n",
            "18/18 [==============================] - 0s 6ms/step - loss: 51.7766 - mean_absolute_error: 51.7766 - val_loss: 48.8044 - val_mean_absolute_error: 48.8044\n",
            "Epoch 15/100\n",
            "18/18 [==============================] - 0s 6ms/step - loss: 48.7310 - mean_absolute_error: 48.7310 - val_loss: 46.8574 - val_mean_absolute_error: 46.8574\n",
            "Epoch 16/100\n",
            "18/18 [==============================] - 0s 6ms/step - loss: 46.6021 - mean_absolute_error: 46.6021 - val_loss: 46.7203 - val_mean_absolute_error: 46.7203\n",
            "Epoch 17/100\n",
            "18/18 [==============================] - 0s 7ms/step - loss: 52.6141 - mean_absolute_error: 52.6141 - val_loss: 52.2937 - val_mean_absolute_error: 52.2937\n",
            "Epoch 18/100\n",
            "18/18 [==============================] - 0s 6ms/step - loss: 51.2969 - mean_absolute_error: 51.2969 - val_loss: 50.3353 - val_mean_absolute_error: 50.3353\n",
            "Epoch 19/100\n",
            "18/18 [==============================] - 0s 6ms/step - loss: 50.7288 - mean_absolute_error: 50.7288 - val_loss: 46.8566 - val_mean_absolute_error: 46.8566\n",
            "Epoch 20/100\n",
            "18/18 [==============================] - 0s 5ms/step - loss: 47.9310 - mean_absolute_error: 47.9310 - val_loss: 48.1336 - val_mean_absolute_error: 48.1336\n",
            "Epoch 21/100\n",
            "18/18 [==============================] - 0s 6ms/step - loss: 52.0955 - mean_absolute_error: 52.0955 - val_loss: 47.8427 - val_mean_absolute_error: 47.8427\n",
            "Epoch 22/100\n",
            "18/18 [==============================] - 0s 6ms/step - loss: 47.1224 - mean_absolute_error: 47.1224 - val_loss: 51.3040 - val_mean_absolute_error: 51.3040\n",
            "Epoch 23/100\n",
            "18/18 [==============================] - 0s 7ms/step - loss: 50.8879 - mean_absolute_error: 50.8879 - val_loss: 49.1702 - val_mean_absolute_error: 49.1702\n",
            "Epoch 24/100\n",
            "18/18 [==============================] - 0s 6ms/step - loss: 52.0544 - mean_absolute_error: 52.0544 - val_loss: 46.8684 - val_mean_absolute_error: 46.8684\n",
            "Epoch 25/100\n",
            "18/18 [==============================] - 0s 5ms/step - loss: 44.4204 - mean_absolute_error: 44.4204 - val_loss: 47.0140 - val_mean_absolute_error: 47.0140\n",
            "Epoch 26/100\n",
            "18/18 [==============================] - 0s 5ms/step - loss: 52.0207 - mean_absolute_error: 52.0207 - val_loss: 48.4821 - val_mean_absolute_error: 48.4821\n",
            "Epoch 27/100\n",
            "18/18 [==============================] - 0s 6ms/step - loss: 53.1076 - mean_absolute_error: 53.1076 - val_loss: 47.5271 - val_mean_absolute_error: 47.5271\n",
            "Epoch 28/100\n",
            "18/18 [==============================] - 0s 7ms/step - loss: 51.4471 - mean_absolute_error: 51.4471 - val_loss: 46.8210 - val_mean_absolute_error: 46.8210\n",
            "Epoch 29/100\n",
            "18/18 [==============================] - 0s 5ms/step - loss: 49.2969 - mean_absolute_error: 49.2969 - val_loss: 49.5273 - val_mean_absolute_error: 49.5273\n",
            "Epoch 30/100\n",
            "18/18 [==============================] - 0s 5ms/step - loss: 56.5347 - mean_absolute_error: 56.5347 - val_loss: 47.0692 - val_mean_absolute_error: 47.0692\n",
            "Epoch 31/100\n",
            "18/18 [==============================] - 0s 6ms/step - loss: 46.5021 - mean_absolute_error: 46.5021 - val_loss: 46.7721 - val_mean_absolute_error: 46.7721\n",
            "Epoch 32/100\n",
            "18/18 [==============================] - 0s 6ms/step - loss: 49.2917 - mean_absolute_error: 49.2917 - val_loss: 46.7363 - val_mean_absolute_error: 46.7363\n",
            "Epoch 33/100\n",
            "18/18 [==============================] - 0s 6ms/step - loss: 49.8244 - mean_absolute_error: 49.8244 - val_loss: 46.9390 - val_mean_absolute_error: 46.9390\n",
            "Epoch 34/100\n",
            "18/18 [==============================] - 0s 6ms/step - loss: 51.2235 - mean_absolute_error: 51.2235 - val_loss: 47.3123 - val_mean_absolute_error: 47.3123\n",
            "Epoch 35/100\n",
            "18/18 [==============================] - 0s 7ms/step - loss: 52.4864 - mean_absolute_error: 52.4864 - val_loss: 46.6829 - val_mean_absolute_error: 46.6829\n",
            "Epoch 36/100\n",
            "18/18 [==============================] - 0s 6ms/step - loss: 45.9460 - mean_absolute_error: 45.9460 - val_loss: 49.8976 - val_mean_absolute_error: 49.8976\n",
            "Epoch 37/100\n",
            "18/18 [==============================] - 0s 6ms/step - loss: 53.0720 - mean_absolute_error: 53.0720 - val_loss: 50.8505 - val_mean_absolute_error: 50.8505\n",
            "Epoch 38/100\n",
            "18/18 [==============================] - 0s 6ms/step - loss: 50.6024 - mean_absolute_error: 50.6024 - val_loss: 48.0224 - val_mean_absolute_error: 48.0224\n",
            "Epoch 39/100\n",
            "18/18 [==============================] - 0s 6ms/step - loss: 43.8028 - mean_absolute_error: 43.8028 - val_loss: 51.6245 - val_mean_absolute_error: 51.6245\n",
            "Epoch 40/100\n",
            "18/18 [==============================] - 0s 6ms/step - loss: 55.3875 - mean_absolute_error: 55.3875 - val_loss: 48.4793 - val_mean_absolute_error: 48.4793\n",
            "Epoch 41/100\n",
            "18/18 [==============================] - 0s 5ms/step - loss: 51.1214 - mean_absolute_error: 51.1214 - val_loss: 46.7108 - val_mean_absolute_error: 46.7108\n",
            "Epoch 42/100\n",
            "18/18 [==============================] - 0s 6ms/step - loss: 50.3511 - mean_absolute_error: 50.3511 - val_loss: 46.7111 - val_mean_absolute_error: 46.7111\n",
            "Epoch 43/100\n",
            "18/18 [==============================] - 0s 6ms/step - loss: 47.6581 - mean_absolute_error: 47.6581 - val_loss: 48.7988 - val_mean_absolute_error: 48.7988\n",
            "Epoch 44/100\n",
            "18/18 [==============================] - 0s 6ms/step - loss: 50.2210 - mean_absolute_error: 50.2210 - val_loss: 47.3313 - val_mean_absolute_error: 47.3313\n",
            "Epoch 45/100\n",
            "18/18 [==============================] - 0s 6ms/step - loss: 48.1356 - mean_absolute_error: 48.1356 - val_loss: 50.7397 - val_mean_absolute_error: 50.7397\n",
            "Epoch 46/100\n",
            "18/18 [==============================] - 0s 6ms/step - loss: 52.2241 - mean_absolute_error: 52.2241 - val_loss: 48.0940 - val_mean_absolute_error: 48.0940\n",
            "Epoch 47/100\n",
            "18/18 [==============================] - 0s 6ms/step - loss: 48.7603 - mean_absolute_error: 48.7603 - val_loss: 48.4774 - val_mean_absolute_error: 48.4774\n",
            "Epoch 48/100\n",
            "18/18 [==============================] - 0s 6ms/step - loss: 49.4186 - mean_absolute_error: 49.4186 - val_loss: 47.2197 - val_mean_absolute_error: 47.2197\n",
            "Epoch 49/100\n",
            "18/18 [==============================] - 0s 6ms/step - loss: 47.1651 - mean_absolute_error: 47.1651 - val_loss: 46.7772 - val_mean_absolute_error: 46.7772\n",
            "Epoch 50/100\n",
            "18/18 [==============================] - 0s 7ms/step - loss: 44.9369 - mean_absolute_error: 44.9369 - val_loss: 46.7620 - val_mean_absolute_error: 46.7620\n",
            "Epoch 51/100\n",
            "18/18 [==============================] - 0s 6ms/step - loss: 46.9255 - mean_absolute_error: 46.9255 - val_loss: 47.2151 - val_mean_absolute_error: 47.2151\n",
            "Epoch 52/100\n",
            "18/18 [==============================] - 0s 7ms/step - loss: 47.6384 - mean_absolute_error: 47.6384 - val_loss: 47.6060 - val_mean_absolute_error: 47.6060\n",
            "Epoch 53/100\n",
            "18/18 [==============================] - 0s 7ms/step - loss: 44.6089 - mean_absolute_error: 44.6089 - val_loss: 49.0176 - val_mean_absolute_error: 49.0176\n",
            "Epoch 54/100\n",
            "18/18 [==============================] - 0s 6ms/step - loss: 53.2597 - mean_absolute_error: 53.2597 - val_loss: 46.8179 - val_mean_absolute_error: 46.8179\n",
            "Epoch 55/100\n",
            "18/18 [==============================] - 0s 6ms/step - loss: 46.9467 - mean_absolute_error: 46.9467 - val_loss: 46.7022 - val_mean_absolute_error: 46.7022\n",
            "Epoch 56/100\n",
            "18/18 [==============================] - 0s 13ms/step - loss: 50.0249 - mean_absolute_error: 50.0249 - val_loss: 46.7553 - val_mean_absolute_error: 46.7553\n",
            "Epoch 57/100\n",
            "18/18 [==============================] - 0s 7ms/step - loss: 51.1273 - mean_absolute_error: 51.1273 - val_loss: 47.4662 - val_mean_absolute_error: 47.4662\n",
            "Epoch 58/100\n",
            "18/18 [==============================] - 0s 6ms/step - loss: 53.3480 - mean_absolute_error: 53.3480 - val_loss: 48.4929 - val_mean_absolute_error: 48.4929\n",
            "Epoch 59/100\n",
            "18/18 [==============================] - 0s 5ms/step - loss: 51.5815 - mean_absolute_error: 51.5815 - val_loss: 46.8129 - val_mean_absolute_error: 46.8129\n",
            "Epoch 60/100\n",
            "18/18 [==============================] - 0s 6ms/step - loss: 48.8235 - mean_absolute_error: 48.8235 - val_loss: 47.8603 - val_mean_absolute_error: 47.8603\n",
            "Epoch 61/100\n",
            "18/18 [==============================] - 0s 7ms/step - loss: 53.6549 - mean_absolute_error: 53.6549 - val_loss: 53.2414 - val_mean_absolute_error: 53.2414\n",
            "Epoch 62/100\n",
            "18/18 [==============================] - 0s 6ms/step - loss: 54.7974 - mean_absolute_error: 54.7974 - val_loss: 47.0555 - val_mean_absolute_error: 47.0555\n",
            "Epoch 63/100\n",
            "18/18 [==============================] - 0s 6ms/step - loss: 48.6034 - mean_absolute_error: 48.6034 - val_loss: 47.4071 - val_mean_absolute_error: 47.4071\n",
            "Epoch 64/100\n",
            "18/18 [==============================] - 0s 6ms/step - loss: 51.9773 - mean_absolute_error: 51.9773 - val_loss: 46.6844 - val_mean_absolute_error: 46.6844\n",
            "Epoch 65/100\n",
            "18/18 [==============================] - 0s 7ms/step - loss: 47.7734 - mean_absolute_error: 47.7734 - val_loss: 46.8301 - val_mean_absolute_error: 46.8301\n",
            "Epoch 66/100\n",
            "18/18 [==============================] - 0s 6ms/step - loss: 48.1768 - mean_absolute_error: 48.1768 - val_loss: 46.7372 - val_mean_absolute_error: 46.7372\n",
            "Epoch 67/100\n",
            "18/18 [==============================] - 0s 7ms/step - loss: 48.9776 - mean_absolute_error: 48.9776 - val_loss: 52.4265 - val_mean_absolute_error: 52.4265\n",
            "Epoch 68/100\n",
            "18/18 [==============================] - 0s 6ms/step - loss: 48.9238 - mean_absolute_error: 48.9238 - val_loss: 46.8210 - val_mean_absolute_error: 46.8210\n",
            "Epoch 69/100\n",
            "18/18 [==============================] - 0s 6ms/step - loss: 48.8682 - mean_absolute_error: 48.8682 - val_loss: 46.6899 - val_mean_absolute_error: 46.6899\n",
            "Epoch 70/100\n",
            "18/18 [==============================] - 0s 6ms/step - loss: 50.8344 - mean_absolute_error: 50.8344 - val_loss: 48.2638 - val_mean_absolute_error: 48.2638\n",
            "Epoch 71/100\n",
            "18/18 [==============================] - 0s 6ms/step - loss: 45.0196 - mean_absolute_error: 45.0196 - val_loss: 47.8282 - val_mean_absolute_error: 47.8282\n",
            "Epoch 72/100\n",
            "18/18 [==============================] - 0s 6ms/step - loss: 45.8538 - mean_absolute_error: 45.8538 - val_loss: 46.7804 - val_mean_absolute_error: 46.7804\n",
            "Epoch 73/100\n",
            "18/18 [==============================] - 0s 5ms/step - loss: 45.4756 - mean_absolute_error: 45.4756 - val_loss: 48.3930 - val_mean_absolute_error: 48.3930\n",
            "Epoch 74/100\n",
            "18/18 [==============================] - 0s 6ms/step - loss: 49.0182 - mean_absolute_error: 49.0182 - val_loss: 47.5259 - val_mean_absolute_error: 47.5259\n",
            "Epoch 75/100\n",
            "18/18 [==============================] - 0s 6ms/step - loss: 45.3045 - mean_absolute_error: 45.3045 - val_loss: 46.7525 - val_mean_absolute_error: 46.7525\n",
            "Epoch 76/100\n",
            "18/18 [==============================] - 0s 6ms/step - loss: 47.5785 - mean_absolute_error: 47.5785 - val_loss: 46.7399 - val_mean_absolute_error: 46.7399\n",
            "Epoch 77/100\n",
            "18/18 [==============================] - 0s 6ms/step - loss: 51.6461 - mean_absolute_error: 51.6461 - val_loss: 46.7891 - val_mean_absolute_error: 46.7891\n",
            "Epoch 78/100\n",
            "18/18 [==============================] - 0s 6ms/step - loss: 52.6006 - mean_absolute_error: 52.6006 - val_loss: 46.7536 - val_mean_absolute_error: 46.7536\n",
            "Epoch 79/100\n",
            "18/18 [==============================] - 0s 7ms/step - loss: 45.5657 - mean_absolute_error: 45.5657 - val_loss: 47.3803 - val_mean_absolute_error: 47.3803\n",
            "Epoch 80/100\n",
            "18/18 [==============================] - 0s 6ms/step - loss: 47.8793 - mean_absolute_error: 47.8793 - val_loss: 46.7368 - val_mean_absolute_error: 46.7368\n",
            "Epoch 81/100\n",
            "18/18 [==============================] - 0s 6ms/step - loss: 47.4199 - mean_absolute_error: 47.4199 - val_loss: 47.4899 - val_mean_absolute_error: 47.4899\n",
            "Epoch 82/100\n",
            "18/18 [==============================] - 0s 6ms/step - loss: 43.2713 - mean_absolute_error: 43.2713 - val_loss: 49.5587 - val_mean_absolute_error: 49.5587\n",
            "Epoch 83/100\n",
            "18/18 [==============================] - 0s 6ms/step - loss: 53.5962 - mean_absolute_error: 53.5962 - val_loss: 48.0907 - val_mean_absolute_error: 48.0907\n",
            "Epoch 84/100\n",
            "18/18 [==============================] - 0s 6ms/step - loss: 44.6963 - mean_absolute_error: 44.6963 - val_loss: 49.2916 - val_mean_absolute_error: 49.2916\n",
            "Epoch 85/100\n",
            "18/18 [==============================] - 0s 6ms/step - loss: 48.9687 - mean_absolute_error: 48.9687 - val_loss: 46.9861 - val_mean_absolute_error: 46.9861\n",
            "Epoch 86/100\n",
            "18/18 [==============================] - 0s 7ms/step - loss: 47.0941 - mean_absolute_error: 47.0941 - val_loss: 46.7353 - val_mean_absolute_error: 46.7353\n",
            "Epoch 87/100\n",
            "18/18 [==============================] - 0s 6ms/step - loss: 45.7403 - mean_absolute_error: 45.7403 - val_loss: 47.5177 - val_mean_absolute_error: 47.5177\n",
            "Epoch 88/100\n",
            "18/18 [==============================] - 0s 7ms/step - loss: 48.3210 - mean_absolute_error: 48.3210 - val_loss: 46.7548 - val_mean_absolute_error: 46.7548\n",
            "Epoch 89/100\n",
            "18/18 [==============================] - 0s 7ms/step - loss: 47.4331 - mean_absolute_error: 47.4331 - val_loss: 46.7672 - val_mean_absolute_error: 46.7672\n",
            "Epoch 90/100\n",
            "18/18 [==============================] - 0s 6ms/step - loss: 49.3997 - mean_absolute_error: 49.3997 - val_loss: 47.5950 - val_mean_absolute_error: 47.5950\n",
            "Epoch 91/100\n",
            "18/18 [==============================] - 0s 6ms/step - loss: 48.0515 - mean_absolute_error: 48.0515 - val_loss: 47.2810 - val_mean_absolute_error: 47.2810\n",
            "Epoch 92/100\n",
            "18/18 [==============================] - 0s 6ms/step - loss: 50.5516 - mean_absolute_error: 50.5516 - val_loss: 47.1831 - val_mean_absolute_error: 47.1831\n",
            "Epoch 93/100\n",
            "18/18 [==============================] - 0s 6ms/step - loss: 43.7741 - mean_absolute_error: 43.7741 - val_loss: 46.7332 - val_mean_absolute_error: 46.7332\n",
            "Epoch 94/100\n",
            "18/18 [==============================] - 0s 6ms/step - loss: 46.4844 - mean_absolute_error: 46.4844 - val_loss: 47.1809 - val_mean_absolute_error: 47.1809\n",
            "Epoch 95/100\n",
            "18/18 [==============================] - 0s 6ms/step - loss: 50.5331 - mean_absolute_error: 50.5331 - val_loss: 47.1028 - val_mean_absolute_error: 47.1028\n",
            "Epoch 96/100\n",
            "18/18 [==============================] - 0s 6ms/step - loss: 45.8447 - mean_absolute_error: 45.8447 - val_loss: 48.9658 - val_mean_absolute_error: 48.9658\n",
            "Epoch 97/100\n",
            "18/18 [==============================] - 0s 7ms/step - loss: 47.1522 - mean_absolute_error: 47.1522 - val_loss: 48.2373 - val_mean_absolute_error: 48.2373\n",
            "Epoch 98/100\n",
            "18/18 [==============================] - 0s 6ms/step - loss: 49.2695 - mean_absolute_error: 49.2695 - val_loss: 46.8867 - val_mean_absolute_error: 46.8867\n",
            "Epoch 99/100\n",
            "18/18 [==============================] - 0s 7ms/step - loss: 48.1757 - mean_absolute_error: 48.1757 - val_loss: 51.3060 - val_mean_absolute_error: 51.3060\n",
            "Epoch 100/100\n",
            "18/18 [==============================] - 0s 6ms/step - loss: 44.8885 - mean_absolute_error: 44.8885 - val_loss: 47.4608 - val_mean_absolute_error: 47.4608\n"
          ],
          "name": "stdout"
        }
      ]
    },
    {
      "cell_type": "code",
      "metadata": {
        "colab": {
          "base_uri": "https://localhost:8080/",
          "height": 335
        },
        "id": "g7j4_M1DuoAR",
        "outputId": "30e043f8-73d1-4023-8faa-59c29ddc4fcc"
      },
      "source": [
        "prediction=NN_model.predict(X_test)\r\n",
        "sns.distplot(y_test.values.reshape(-1,1)-prediction)"
      ],
      "execution_count": 8,
      "outputs": [
        {
          "output_type": "stream",
          "text": [
            "/usr/local/lib/python3.6/dist-packages/seaborn/distributions.py:2557: FutureWarning: `distplot` is a deprecated function and will be removed in a future version. Please adapt your code to use either `displot` (a figure-level function with similar flexibility) or `histplot` (an axes-level function for histograms).\n",
            "  warnings.warn(msg, FutureWarning)\n"
          ],
          "name": "stderr"
        },
        {
          "output_type": "execute_result",
          "data": {
            "text/plain": [
              "<matplotlib.axes._subplots.AxesSubplot at 0x7f476b77c710>"
            ]
          },
          "metadata": {
            "tags": []
          },
          "execution_count": 8
        },
        {
          "output_type": "display_data",
          "data": {
            "image/png": "[encoded data removed]",
            "text/plain": [
              "<Figure size 432x288 with 1 Axes>"
            ]
          },
          "metadata": {
            "tags": [],
            "needs_background": "light"
          }
        }
      ]
    },
    {
      "cell_type": "code",
      "metadata": {
        "colab": {
          "base_uri": "https://localhost:8080/",
          "height": 282
        },
        "id": "o7ATmgkTutwL",
        "outputId": "aad90109-237b-4302-84ba-0dcd15fbafac"
      },
      "source": [
        "plt.scatter(y_test,prediction)"
      ],
      "execution_count": 9,
      "outputs": [
        {
          "output_type": "execute_result",
          "data": {
            "text/plain": [
              "<matplotlib.collections.PathCollection at 0x7f476b6dee10>"
            ]
          },
          "metadata": {
            "tags": []
          },
          "execution_count": 9
        },
        {
          "output_type": "display_data",
          "data": {
            "image/png": "[encoded data removed]",
            "text/plain": [
              "<Figure size 432x288 with 1 Axes>"
            ]
          },
          "metadata": {
            "tags": [],
            "needs_background": "light"
          }
        }
      ]
    },
    {
      "cell_type": "code",
      "metadata": {
        "colab": {
          "base_uri": "https://localhost:8080/"
        },
        "id": "2hg5Ojm8uwZE",
        "outputId": "3bf6885a-f57f-4849-f53f-861fc838c29f"
      },
      "source": [
        "from sklearn import metrics\r\n",
        "print('MAE:', metrics.mean_absolute_error(y_test, prediction))\r\n",
        "print('MSE:', metrics.mean_squared_error(y_test, prediction))\r\n",
        "print('RMSE:', np.sqrt(metrics.mean_squared_error(y_test, prediction)))\r\n",
        "print(\"R2 score =\", round(metrics.r2_score(y_test, prediction), 2))"
      ],
      "execution_count": 12,
      "outputs": [
        {
          "output_type": "stream",
          "text": [
            "MAE: 49.074349991050404\n",
            "MSE: 3952.933920818055\n",
            "RMSE: 62.87236213804962\n",
            "R2 score = -0.04\n"
          ],
          "name": "stdout"
        }
      ]
    },
    {
      "cell_type": "code",
      "metadata": {
        "id": "GV9jxVtHuzTS"
      },
      "source": [
        ""
      ],
      "execution_count": null,
      "outputs": []
    }
  ]
}