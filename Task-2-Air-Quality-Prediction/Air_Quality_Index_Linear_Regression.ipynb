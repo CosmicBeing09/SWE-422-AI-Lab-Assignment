{
  "nbformat": 4,
  "nbformat_minor": 0,
  "metadata": {
    "colab": {
      "name": "Air_Quality_Index_Linear_Regression.ipynb",
      "provenance": []
    },
    "kernelspec": {
      "name": "python3",
      "display_name": "Python 3"
    }
  },
  "cells": [
    {
      "cell_type": "code",
      "metadata": {
        "id": "ekotxZSWSvq-"
      },
      "source": [
        "import os\r\n",
        "import time\r\n",
        "import requests\r\n",
        "import sys"
      ],
      "execution_count": 1,
      "outputs": []
    },
    {
      "cell_type": "code",
      "metadata": {
        "id": "2L359Xc6TRX1"
      },
      "source": [
        "## Using web scraping extracting climate data for Dhaka\r\n",
        "def retrieve_html():\r\n",
        "    for year in range(2014,2021):\r\n",
        "        for month in range(1,13):\r\n",
        "            if(month<10):\r\n",
        "                url='http://en.tutiempo.net/climate/0{}-{}/ws-419230.html'.format(month\r\n",
        "                                                                          ,year)\r\n",
        "            else:\r\n",
        "                url='http://en.tutiempo.net/climate/{}-{}/ws-419230.html'.format(month\r\n",
        "                                                                          ,year)\r\n",
        "            texts=requests.get(url)\r\n",
        "            text_utf=texts.text.encode('utf=8')\r\n",
        "            \r\n",
        "            if not os.path.exists(\"Data/Html_Data/{}\".format(year)):\r\n",
        "                os.makedirs(\"Data/Html_Data/{}\".format(year))\r\n",
        "            with open(\"Data/Html_Data/{}/{}.html\".format(year,month),\"wb\") as output:\r\n",
        "                output.write(text_utf)\r\n",
        "            \r\n",
        "        sys.stdout.flush()"
      ],
      "execution_count": 2,
      "outputs": []
    },
    {
      "cell_type": "code",
      "metadata": {
        "colab": {
          "base_uri": "https://localhost:8080/"
        },
        "id": "PKS4hElWTW08",
        "outputId": "73dccebd-5bbe-4d73-8a71-3186217d324c"
      },
      "source": [
        "## Extracting HTML data\r\n",
        "start_time=time.time()\r\n",
        "retrieve_html()\r\n",
        "stop_time=time.time()\r\n",
        "print(\"Time taken {}\".format(stop_time-start_time))"
      ],
      "execution_count": 3,
      "outputs": [
        {
          "output_type": "stream",
          "text": [
            "Time taken 75.32517910003662\n"
          ],
          "name": "stdout"
        }
      ]
    },
    {
      "cell_type": "code",
      "metadata": {
        "id": "E_icJgyqWTiR",
        "colab": {
          "resources": {
            "http://localhost:8080/nbextensions/google.colab/files.js": {
              "data": "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",
              "ok": true,
              "headers": [
                [
                  "content-type",
                  "application/javascript"
                ]
              ],
              "status": 200,
              "status_text": ""
            }
          },
          "base_uri": "https://localhost:8080/",
          "height": 73
        },
        "outputId": "c1b550f3-87e0-40e3-9e65-c020ec58ef4e"
      },
      "source": [
        "## uploading PM2.5 data which will be used as dependent variable\r\n",
        "import pandas as pd\r\n",
        "from bs4 import BeautifulSoup\r\n",
        "import csv\r\n",
        "from google.colab import files\r\n",
        "uploaded = files.upload()"
      ],
      "execution_count": 4,
      "outputs": [
        {
          "output_type": "display_data",
          "data": {
            "text/html": [
              "\n",
              "     <input type=\"file\" id=\"files-c6a02627-cd8e-4302-829a-22853d5805bc\" name=\"files[]\" multiple disabled\n",
              "        style=\"border:none\" />\n",
              "     <output id=\"result-c6a02627-cd8e-4302-829a-22853d5805bc\">\n",
              "      Upload widget is only available when the cell has been executed in the\n",
              "      current browser session. Please rerun this cell to enable.\n",
              "      </output>\n",
              "      <script src=\"/nbextensions/google.colab/files.js\"></script> "
            ],
            "text/plain": [
              "<IPython.core.display.HTML object>"
            ]
          },
          "metadata": {
            "tags": []
          }
        },
        {
          "output_type": "stream",
          "text": [
            "Saving dhaka-us consulate-air-quality.csv to dhaka-us consulate-air-quality.csv\n"
          ],
          "name": "stdout"
        }
      ]
    },
    {
      "cell_type": "code",
      "metadata": {
        "id": "5-QD7t-1cF0u"
      },
      "source": [
        "## will be used to combine varoius years data\r\n",
        "def data_combine(year, cs):\r\n",
        "  for a in pd.read_csv('Data/Real-Data/real_' + str(year) + '.csv', chunksize=cs):\r\n",
        "    df = pd.DataFrame(data=a)\r\n",
        "    mylist = df.values.tolist()\r\n",
        "  return mylist"
      ],
      "execution_count": 5,
      "outputs": []
    },
    {
      "cell_type": "code",
      "metadata": {
        "id": "NGrmpsNYw3Vp"
      },
      "source": [
        "## spitting dependent variable (target) data into the years that will be analyzed \r\n",
        "import pandas as pd\r\n",
        "import matplotlib.pyplot as plt\r\n",
        "\r\n",
        "pm2016 = []\r\n",
        "pm2017 = []\r\n",
        "pm2018 = []\r\n",
        "\r\n",
        "for rows in pd.read_csv('dhaka-us consulate-air-quality.csv',chunksize=100):\r\n",
        "  df=pd.DataFrame(data=rows)\r\n",
        "  for index,row in df.iterrows():\r\n",
        "    if(\"2016\" in row[\"date\"]):\r\n",
        "      pm2016.append(row[1])\r\n",
        "    elif(\"2017\" in row[\"date\"]):\r\n",
        "      pm2017.append(row[1])\r\n",
        "    elif(\"2018\" in row[\"date\"]):\r\n",
        "      pm2018.append(row[1])\r\n",
        "\r\n",
        "def getPM_2016():\r\n",
        "  return pm2016\r\n",
        "\r\n",
        "def getPM_2017():\r\n",
        "  return pm2017\r\n",
        "\r\n",
        "def getPM_2018():\r\n",
        "  return pm2018"
      ],
      "execution_count": 6,
      "outputs": []
    },
    {
      "cell_type": "code",
      "metadata": {
        "id": "5OY19TE_b5XH"
      },
      "source": [
        "## extracting data from HTML pages that were saved\r\n",
        "import numpy as np\r\n",
        "def met_data(month, year):\r\n",
        "  file_html = open('Data/Html_Data/{}/{}.html'.format(year,month), 'rb')\r\n",
        "  plain_text = file_html.read()\r\n",
        "\r\n",
        "  tempD = []\r\n",
        "  finalD = []\r\n",
        "\r\n",
        "  soup = BeautifulSoup(plain_text, \"lxml\")\r\n",
        "  for table in soup.findAll('table', {'class': 'medias mensuales numspan'}):\r\n",
        "    for tbody in table:\r\n",
        "      for tr in tbody:\r\n",
        "        a = tr.get_text()\r\n",
        "        tempD.append(a)\r\n",
        "\r\n",
        "  # print(\"tempD: \",tempD)\r\n",
        "  rows = len(tempD) / 15\r\n",
        "\r\n",
        "  for times in range(round(rows)):\r\n",
        "    newtempD = []\r\n",
        "    for i in range(15):\r\n",
        "      newtempD.append(tempD[0])\r\n",
        "      # print(tempD[0])\r\n",
        "      tempD.pop(0)\r\n",
        "    finalD.append(newtempD)\r\n",
        "  \r\n",
        "  \r\n",
        "  length = len(finalD)\r\n",
        "  # print(\"Final ID: \",finalD)\r\n",
        "\r\n",
        "  finalD.pop(length - 1)\r\n",
        "  finalD.pop(0)\r\n",
        "\r\n",
        "  for a in range(len(finalD)):\r\n",
        "    finalD[a].pop(6)\r\n",
        "    finalD[a].pop(13)\r\n",
        "    finalD[a].pop(12)\r\n",
        "    finalD[a].pop(11)\r\n",
        "    finalD[a].pop(10)\r\n",
        "    finalD[a].pop(9)\r\n",
        "    finalD[a].pop(0)\r\n",
        "  # print(\"Final ID: \",finalD)\r\n",
        "  return finalD"
      ],
      "execution_count": 7,
      "outputs": []
    },
    {
      "cell_type": "code",
      "metadata": {
        "id": "dSXXyjuVdLr8"
      },
      "source": [
        "## merge dependent and independent variale data and saved them as CSV file\r\n",
        "if not os.path.exists(\"Data/Real-Data\"):\r\n",
        "  os.makedirs(\"Data/Real-Data\")\r\n",
        "\r\n",
        "for year in range(2016, 2019):\r\n",
        "  final_data = []\r\n",
        "  with open('Data/Real-Data/real_' + str(year) + '.csv', 'w') as csvfile:\r\n",
        "    wr = csv.writer(csvfile, dialect='excel')\r\n",
        "    wr.writerow(['T', 'TM', 'Tm', 'SLP', 'H', 'VV', 'V', 'VM','PM2.5'])\r\n",
        "  for month in range(1, 13):\r\n",
        "    \r\n",
        "    temp = met_data(month, year)\r\n",
        "    \r\n",
        "    final_data = final_data + temp\r\n",
        "\r\n",
        "  ## reading dependent variable data\r\n",
        "  pm = getattr(sys.modules[__name__], 'getPM_{}'.format(year))()\r\n",
        " \r\n",
        "  avgPM = sum(pm)/len(pm)\r\n",
        " \r\n",
        "  for i in range(len(final_data)):\r\n",
        "    if(i>len(pm)-1):\r\n",
        "     final_data[i].insert(8, avgPM)\r\n",
        "    else: \r\n",
        "     final_data[i].insert(8, pm[i])\r\n",
        "\r\n",
        "\r\n",
        "  with open('Data/Real-Data/real_' + str(year) + '.csv', 'a') as csvfile:\r\n",
        "     wr = csv.writer(csvfile, dialect='excel')\r\n",
        "     for row in final_data:\r\n",
        "       flag = 0\r\n",
        "       for elem in row:\r\n",
        "          if elem == \"\" or elem == \"-\":\r\n",
        "            flag = 1\r\n",
        "       if flag != 1:\r\n",
        "         wr.writerow(row)\r\n",
        "#combining data\r\n",
        "data_2016 = data_combine(2016, 100)\r\n",
        "data_2017 = data_combine(2017, 600)\r\n",
        "data_2018 = data_combine(2018, 600)\r\n",
        "\r\n",
        "total=data_2016+data_2017+data_2018\r\n",
        "\r\n",
        "with open('Data/Real-Data/Real_Combine.csv', 'w') as csvfile:\r\n",
        "  wr = csv.writer(csvfile, dialect='excel')\r\n",
        "  wr.writerow(['T', 'TM', 'Tm', 'SLP', 'H', 'VV', 'V', 'VM','PM2.5'])\r\n",
        "  wr.writerows(total)\r\n",
        "\r\n",
        "df=pd.read_csv('Data/Real-Data/Real_Combine.csv')"
      ],
      "execution_count": 8,
      "outputs": []
    },
    {
      "cell_type": "code",
      "metadata": {
        "id": "Inuz7cfjPVIx"
      },
      "source": [
        "import seaborn as sns\r\n",
        "df=pd.read_csv('Data/Real-Data/Real_Combine.csv')"
      ],
      "execution_count": 9,
      "outputs": []
    },
    {
      "cell_type": "code",
      "metadata": {
        "colab": {
          "base_uri": "https://localhost:8080/",
          "height": 195
        },
        "id": "3XPgJgR8UsnC",
        "outputId": "29953ac8-ee67-43dc-e88d-2f443f728a20"
      },
      "source": [
        "df.head()"
      ],
      "execution_count": 10,
      "outputs": [
        {
          "output_type": "execute_result",
          "data": {
            "text/html": [
              "<div>\n",
              "<style scoped>\n",
              "    .dataframe tbody tr th:only-of-type {\n",
              "        vertical-align: middle;\n",
              "    }\n",
              "\n",
              "    .dataframe tbody tr th {\n",
              "        vertical-align: top;\n",
              "    }\n",
              "\n",
              "    .dataframe thead th {\n",
              "        text-align: right;\n",
              "    }\n",
              "</style>\n",
              "<table border=\"1\" class=\"dataframe\">\n",
              "  <thead>\n",
              "    <tr style=\"text-align: right;\">\n",
              "      <th></th>\n",
              "      <th>T</th>\n",
              "      <th>TM</th>\n",
              "      <th>Tm</th>\n",
              "      <th>SLP</th>\n",
              "      <th>H</th>\n",
              "      <th>VV</th>\n",
              "      <th>V</th>\n",
              "      <th>VM</th>\n",
              "      <th>PM2.5</th>\n",
              "    </tr>\n",
              "  </thead>\n",
              "  <tbody>\n",
              "    <tr>\n",
              "      <th>0</th>\n",
              "      <td>29.3</td>\n",
              "      <td>34.1</td>\n",
              "      <td>26.5</td>\n",
              "      <td>1004.7</td>\n",
              "      <td>83.0</td>\n",
              "      <td>4.5</td>\n",
              "      <td>1.9</td>\n",
              "      <td>3.5</td>\n",
              "      <td>73.0</td>\n",
              "    </tr>\n",
              "    <tr>\n",
              "      <th>1</th>\n",
              "      <td>29.0</td>\n",
              "      <td>34.0</td>\n",
              "      <td>25.8</td>\n",
              "      <td>1007.0</td>\n",
              "      <td>79.0</td>\n",
              "      <td>4.5</td>\n",
              "      <td>0.6</td>\n",
              "      <td>3.5</td>\n",
              "      <td>93.0</td>\n",
              "    </tr>\n",
              "    <tr>\n",
              "      <th>2</th>\n",
              "      <td>28.9</td>\n",
              "      <td>32.3</td>\n",
              "      <td>27.2</td>\n",
              "      <td>1008.5</td>\n",
              "      <td>84.0</td>\n",
              "      <td>5.0</td>\n",
              "      <td>0.7</td>\n",
              "      <td>3.5</td>\n",
              "      <td>176.0</td>\n",
              "    </tr>\n",
              "    <tr>\n",
              "      <th>3</th>\n",
              "      <td>28.1</td>\n",
              "      <td>33.0</td>\n",
              "      <td>26.4</td>\n",
              "      <td>1004.8</td>\n",
              "      <td>84.0</td>\n",
              "      <td>4.5</td>\n",
              "      <td>0.7</td>\n",
              "      <td>3.5</td>\n",
              "      <td>198.0</td>\n",
              "    </tr>\n",
              "    <tr>\n",
              "      <th>4</th>\n",
              "      <td>28.8</td>\n",
              "      <td>33.5</td>\n",
              "      <td>26.6</td>\n",
              "      <td>1004.3</td>\n",
              "      <td>79.0</td>\n",
              "      <td>4.7</td>\n",
              "      <td>0.6</td>\n",
              "      <td>3.5</td>\n",
              "      <td>205.0</td>\n",
              "    </tr>\n",
              "  </tbody>\n",
              "</table>\n",
              "</div>"
            ],
            "text/plain": [
              "      T    TM    Tm     SLP     H   VV    V   VM  PM2.5\n",
              "0  29.3  34.1  26.5  1004.7  83.0  4.5  1.9  3.5   73.0\n",
              "1  29.0  34.0  25.8  1007.0  79.0  4.5  0.6  3.5   93.0\n",
              "2  28.9  32.3  27.2  1008.5  84.0  5.0  0.7  3.5  176.0\n",
              "3  28.1  33.0  26.4  1004.8  84.0  4.5  0.7  3.5  198.0\n",
              "4  28.8  33.5  26.6  1004.3  79.0  4.7  0.6  3.5  205.0"
            ]
          },
          "metadata": {
            "tags": []
          },
          "execution_count": 10
        }
      ]
    },
    {
      "cell_type": "code",
      "metadata": {
        "colab": {
          "base_uri": "https://localhost:8080/",
          "height": 282
        },
        "id": "PQCPno_PUu2v",
        "outputId": "b2b9ad74-b0b0-41ec-cbbd-a385850bf354"
      },
      "source": [
        "## Checking if there is any null value\r\n",
        "sns.heatmap(df.isnull(),yticklabels=False,cbar=False,cmap='viridis')"
      ],
      "execution_count": 11,
      "outputs": [
        {
          "output_type": "execute_result",
          "data": {
            "text/plain": [
              "<matplotlib.axes._subplots.AxesSubplot at 0x7f59a16d94a8>"
            ]
          },
          "metadata": {
            "tags": []
          },
          "execution_count": 11
        },
        {
          "output_type": "display_data",
          "data": {
            "image/png": "[encoded data removed]",
            "text/plain": [
              "<Figure size 432x288 with 1 Axes>"
            ]
          },
          "metadata": {
            "tags": [],
            "needs_background": "light"
          }
        }
      ]
    },
    {
      "cell_type": "code",
      "metadata": {
        "id": "inuAWvaoUytH"
      },
      "source": [
        "## droping null value\r\n",
        "df=df.dropna()"
      ],
      "execution_count": 12,
      "outputs": []
    },
    {
      "cell_type": "code",
      "metadata": {
        "id": "HFNj_uQRU1fP"
      },
      "source": [
        "X=df.iloc[:,:-1]\r\n",
        "y=df.iloc[:,-1]"
      ],
      "execution_count": 13,
      "outputs": []
    },
    {
      "cell_type": "code",
      "metadata": {
        "colab": {
          "base_uri": "https://localhost:8080/",
          "height": 402
        },
        "id": "Nzda6q1BU6Yg",
        "outputId": "d2fe6359-6e10-4a00-9e92-541c5967452a"
      },
      "source": [
        "X.isnull()"
      ],
      "execution_count": 14,
      "outputs": [
        {
          "output_type": "execute_result",
          "data": {
            "text/html": [
              "<div>\n",
              "<style scoped>\n",
              "    .dataframe tbody tr th:only-of-type {\n",
              "        vertical-align: middle;\n",
              "    }\n",
              "\n",
              "    .dataframe tbody tr th {\n",
              "        vertical-align: top;\n",
              "    }\n",
              "\n",
              "    .dataframe thead th {\n",
              "        text-align: right;\n",
              "    }\n",
              "</style>\n",
              "<table border=\"1\" class=\"dataframe\">\n",
              "  <thead>\n",
              "    <tr style=\"text-align: right;\">\n",
              "      <th></th>\n",
              "      <th>T</th>\n",
              "      <th>TM</th>\n",
              "      <th>Tm</th>\n",
              "      <th>SLP</th>\n",
              "      <th>H</th>\n",
              "      <th>VV</th>\n",
              "      <th>V</th>\n",
              "      <th>VM</th>\n",
              "    </tr>\n",
              "  </thead>\n",
              "  <tbody>\n",
              "    <tr>\n",
              "      <th>0</th>\n",
              "      <td>False</td>\n",
              "      <td>False</td>\n",
              "      <td>False</td>\n",
              "      <td>False</td>\n",
              "      <td>False</td>\n",
              "      <td>False</td>\n",
              "      <td>False</td>\n",
              "      <td>False</td>\n",
              "    </tr>\n",
              "    <tr>\n",
              "      <th>1</th>\n",
              "      <td>False</td>\n",
              "      <td>False</td>\n",
              "      <td>False</td>\n",
              "      <td>False</td>\n",
              "      <td>False</td>\n",
              "      <td>False</td>\n",
              "      <td>False</td>\n",
              "      <td>False</td>\n",
              "    </tr>\n",
              "    <tr>\n",
              "      <th>2</th>\n",
              "      <td>False</td>\n",
              "      <td>False</td>\n",
              "      <td>False</td>\n",
              "      <td>False</td>\n",
              "      <td>False</td>\n",
              "      <td>False</td>\n",
              "      <td>False</td>\n",
              "      <td>False</td>\n",
              "    </tr>\n",
              "    <tr>\n",
              "      <th>3</th>\n",
              "      <td>False</td>\n",
              "      <td>False</td>\n",
              "      <td>False</td>\n",
              "      <td>False</td>\n",
              "      <td>False</td>\n",
              "      <td>False</td>\n",
              "      <td>False</td>\n",
              "      <td>False</td>\n",
              "    </tr>\n",
              "    <tr>\n",
              "      <th>4</th>\n",
              "      <td>False</td>\n",
              "      <td>False</td>\n",
              "      <td>False</td>\n",
              "      <td>False</td>\n",
              "      <td>False</td>\n",
              "      <td>False</td>\n",
              "      <td>False</td>\n",
              "      <td>False</td>\n",
              "    </tr>\n",
              "    <tr>\n",
              "      <th>...</th>\n",
              "      <td>...</td>\n",
              "      <td>...</td>\n",
              "      <td>...</td>\n",
              "      <td>...</td>\n",
              "      <td>...</td>\n",
              "      <td>...</td>\n",
              "      <td>...</td>\n",
              "      <td>...</td>\n",
              "    </tr>\n",
              "    <tr>\n",
              "      <th>290</th>\n",
              "      <td>False</td>\n",
              "      <td>False</td>\n",
              "      <td>False</td>\n",
              "      <td>False</td>\n",
              "      <td>False</td>\n",
              "      <td>False</td>\n",
              "      <td>False</td>\n",
              "      <td>False</td>\n",
              "    </tr>\n",
              "    <tr>\n",
              "      <th>291</th>\n",
              "      <td>False</td>\n",
              "      <td>False</td>\n",
              "      <td>False</td>\n",
              "      <td>False</td>\n",
              "      <td>False</td>\n",
              "      <td>False</td>\n",
              "      <td>False</td>\n",
              "      <td>False</td>\n",
              "    </tr>\n",
              "    <tr>\n",
              "      <th>292</th>\n",
              "      <td>False</td>\n",
              "      <td>False</td>\n",
              "      <td>False</td>\n",
              "      <td>False</td>\n",
              "      <td>False</td>\n",
              "      <td>False</td>\n",
              "      <td>False</td>\n",
              "      <td>False</td>\n",
              "    </tr>\n",
              "    <tr>\n",
              "      <th>293</th>\n",
              "      <td>False</td>\n",
              "      <td>False</td>\n",
              "      <td>False</td>\n",
              "      <td>False</td>\n",
              "      <td>False</td>\n",
              "      <td>False</td>\n",
              "      <td>False</td>\n",
              "      <td>False</td>\n",
              "    </tr>\n",
              "    <tr>\n",
              "      <th>294</th>\n",
              "      <td>False</td>\n",
              "      <td>False</td>\n",
              "      <td>False</td>\n",
              "      <td>False</td>\n",
              "      <td>False</td>\n",
              "      <td>False</td>\n",
              "      <td>False</td>\n",
              "      <td>False</td>\n",
              "    </tr>\n",
              "  </tbody>\n",
              "</table>\n",
              "<p>295 rows × 8 columns</p>\n",
              "</div>"
            ],
            "text/plain": [
              "         T     TM     Tm    SLP      H     VV      V     VM\n",
              "0    False  False  False  False  False  False  False  False\n",
              "1    False  False  False  False  False  False  False  False\n",
              "2    False  False  False  False  False  False  False  False\n",
              "3    False  False  False  False  False  False  False  False\n",
              "4    False  False  False  False  False  False  False  False\n",
              "..     ...    ...    ...    ...    ...    ...    ...    ...\n",
              "290  False  False  False  False  False  False  False  False\n",
              "291  False  False  False  False  False  False  False  False\n",
              "292  False  False  False  False  False  False  False  False\n",
              "293  False  False  False  False  False  False  False  False\n",
              "294  False  False  False  False  False  False  False  False\n",
              "\n",
              "[295 rows x 8 columns]"
            ]
          },
          "metadata": {
            "tags": []
          },
          "execution_count": 14
        }
      ]
    },
    {
      "cell_type": "code",
      "metadata": {
        "colab": {
          "base_uri": "https://localhost:8080/"
        },
        "id": "gvX6ekjoU8km",
        "outputId": "177471f4-e0a6-46f2-a773-81038f3a1873"
      },
      "source": [
        "y.isnull()"
      ],
      "execution_count": 15,
      "outputs": [
        {
          "output_type": "execute_result",
          "data": {
            "text/plain": [
              "0      False\n",
              "1      False\n",
              "2      False\n",
              "3      False\n",
              "4      False\n",
              "       ...  \n",
              "290    False\n",
              "291    False\n",
              "292    False\n",
              "293    False\n",
              "294    False\n",
              "Name: PM2.5, Length: 295, dtype: bool"
            ]
          },
          "metadata": {
            "tags": []
          },
          "execution_count": 15
        }
      ]
    },
    {
      "cell_type": "code",
      "metadata": {
        "colab": {
          "base_uri": "https://localhost:8080/",
          "height": 314
        },
        "id": "PuxdZIl4VEgu",
        "outputId": "4de4c96f-45ee-48e9-bc4d-bf4ad0eed032"
      },
      "source": [
        "## observing correlationg\r\n",
        "df.corr()"
      ],
      "execution_count": 16,
      "outputs": [
        {
          "output_type": "execute_result",
          "data": {
            "text/html": [
              "<div>\n",
              "<style scoped>\n",
              "    .dataframe tbody tr th:only-of-type {\n",
              "        vertical-align: middle;\n",
              "    }\n",
              "\n",
              "    .dataframe tbody tr th {\n",
              "        vertical-align: top;\n",
              "    }\n",
              "\n",
              "    .dataframe thead th {\n",
              "        text-align: right;\n",
              "    }\n",
              "</style>\n",
              "<table border=\"1\" class=\"dataframe\">\n",
              "  <thead>\n",
              "    <tr style=\"text-align: right;\">\n",
              "      <th></th>\n",
              "      <th>T</th>\n",
              "      <th>TM</th>\n",
              "      <th>Tm</th>\n",
              "      <th>SLP</th>\n",
              "      <th>H</th>\n",
              "      <th>VV</th>\n",
              "      <th>V</th>\n",
              "      <th>VM</th>\n",
              "      <th>PM2.5</th>\n",
              "    </tr>\n",
              "  </thead>\n",
              "  <tbody>\n",
              "    <tr>\n",
              "      <th>T</th>\n",
              "      <td>1.000000</td>\n",
              "      <td>0.901099</td>\n",
              "      <td>0.897262</td>\n",
              "      <td>-0.719118</td>\n",
              "      <td>0.242698</td>\n",
              "      <td>0.783086</td>\n",
              "      <td>0.213611</td>\n",
              "      <td>0.120505</td>\n",
              "      <td>-0.070534</td>\n",
              "    </tr>\n",
              "    <tr>\n",
              "      <th>TM</th>\n",
              "      <td>0.901099</td>\n",
              "      <td>1.000000</td>\n",
              "      <td>0.727268</td>\n",
              "      <td>-0.553135</td>\n",
              "      <td>0.019902</td>\n",
              "      <td>0.747051</td>\n",
              "      <td>0.128073</td>\n",
              "      <td>0.127030</td>\n",
              "      <td>-0.146478</td>\n",
              "    </tr>\n",
              "    <tr>\n",
              "      <th>Tm</th>\n",
              "      <td>0.897262</td>\n",
              "      <td>0.727268</td>\n",
              "      <td>1.000000</td>\n",
              "      <td>-0.778452</td>\n",
              "      <td>0.514333</td>\n",
              "      <td>0.660190</td>\n",
              "      <td>0.218347</td>\n",
              "      <td>0.120399</td>\n",
              "      <td>0.038461</td>\n",
              "    </tr>\n",
              "    <tr>\n",
              "      <th>SLP</th>\n",
              "      <td>-0.719118</td>\n",
              "      <td>-0.553135</td>\n",
              "      <td>-0.778452</td>\n",
              "      <td>1.000000</td>\n",
              "      <td>-0.543170</td>\n",
              "      <td>-0.490176</td>\n",
              "      <td>-0.306727</td>\n",
              "      <td>-0.197025</td>\n",
              "      <td>0.017853</td>\n",
              "    </tr>\n",
              "    <tr>\n",
              "      <th>H</th>\n",
              "      <td>0.242698</td>\n",
              "      <td>0.019902</td>\n",
              "      <td>0.514333</td>\n",
              "      <td>-0.543170</td>\n",
              "      <td>1.000000</td>\n",
              "      <td>0.067768</td>\n",
              "      <td>0.224532</td>\n",
              "      <td>0.158039</td>\n",
              "      <td>0.074588</td>\n",
              "    </tr>\n",
              "    <tr>\n",
              "      <th>VV</th>\n",
              "      <td>0.783086</td>\n",
              "      <td>0.747051</td>\n",
              "      <td>0.660190</td>\n",
              "      <td>-0.490176</td>\n",
              "      <td>0.067768</td>\n",
              "      <td>1.000000</td>\n",
              "      <td>0.209864</td>\n",
              "      <td>0.089865</td>\n",
              "      <td>-0.178726</td>\n",
              "    </tr>\n",
              "    <tr>\n",
              "      <th>V</th>\n",
              "      <td>0.213611</td>\n",
              "      <td>0.128073</td>\n",
              "      <td>0.218347</td>\n",
              "      <td>-0.306727</td>\n",
              "      <td>0.224532</td>\n",
              "      <td>0.209864</td>\n",
              "      <td>1.000000</td>\n",
              "      <td>0.673690</td>\n",
              "      <td>-0.104642</td>\n",
              "    </tr>\n",
              "    <tr>\n",
              "      <th>VM</th>\n",
              "      <td>0.120505</td>\n",
              "      <td>0.127030</td>\n",
              "      <td>0.120399</td>\n",
              "      <td>-0.197025</td>\n",
              "      <td>0.158039</td>\n",
              "      <td>0.089865</td>\n",
              "      <td>0.673690</td>\n",
              "      <td>1.000000</td>\n",
              "      <td>-0.073694</td>\n",
              "    </tr>\n",
              "    <tr>\n",
              "      <th>PM2.5</th>\n",
              "      <td>-0.070534</td>\n",
              "      <td>-0.146478</td>\n",
              "      <td>0.038461</td>\n",
              "      <td>0.017853</td>\n",
              "      <td>0.074588</td>\n",
              "      <td>-0.178726</td>\n",
              "      <td>-0.104642</td>\n",
              "      <td>-0.073694</td>\n",
              "      <td>1.000000</td>\n",
              "    </tr>\n",
              "  </tbody>\n",
              "</table>\n",
              "</div>"
            ],
            "text/plain": [
              "              T        TM        Tm  ...         V        VM     PM2.5\n",
              "T      1.000000  0.901099  0.897262  ...  0.213611  0.120505 -0.070534\n",
              "TM     0.901099  1.000000  0.727268  ...  0.128073  0.127030 -0.146478\n",
              "Tm     0.897262  0.727268  1.000000  ...  0.218347  0.120399  0.038461\n",
              "SLP   -0.719118 -0.553135 -0.778452  ... -0.306727 -0.197025  0.017853\n",
              "H      0.242698  0.019902  0.514333  ...  0.224532  0.158039  0.074588\n",
              "VV     0.783086  0.747051  0.660190  ...  0.209864  0.089865 -0.178726\n",
              "V      0.213611  0.128073  0.218347  ...  1.000000  0.673690 -0.104642\n",
              "VM     0.120505  0.127030  0.120399  ...  0.673690  1.000000 -0.073694\n",
              "PM2.5 -0.070534 -0.146478  0.038461  ... -0.104642 -0.073694  1.000000\n",
              "\n",
              "[9 rows x 9 columns]"
            ]
          },
          "metadata": {
            "tags": []
          },
          "execution_count": 16
        }
      ]
    },
    {
      "cell_type": "code",
      "metadata": {
        "colab": {
          "base_uri": "https://localhost:8080/",
          "height": 1000
        },
        "id": "iSWjM892VRNX",
        "outputId": "4c4395b4-c922-486b-8c23-56a2919b95d5"
      },
      "source": [
        "corrmat = df.corr()\r\n",
        "top_corr_features = corrmat.index\r\n",
        "plt.figure(figsize=(20,20))\r\n",
        "g=sns.heatmap(df[top_corr_features].corr(),annot=True,cmap=\"RdYlGn\")"
      ],
      "execution_count": 17,
      "outputs": [
        {
          "output_type": "display_data",
          "data": {
            "image/png": "[encoded data removed]",
            "text/plain": [
              "<Figure size 1440x1440 with 2 Axes>"
            ]
          },
          "metadata": {
            "tags": [],
            "needs_background": "light"
          }
        }
      ]
    },
    {
      "cell_type": "code",
      "metadata": {
        "colab": {
          "base_uri": "https://localhost:8080/"
        },
        "id": "Ya7QX_zUVWbK",
        "outputId": "b7e128f9-c78d-4401-e69f-600f027fc923"
      },
      "source": [
        "corrmat.index"
      ],
      "execution_count": 18,
      "outputs": [
        {
          "output_type": "execute_result",
          "data": {
            "text/plain": [
              "Index(['T', 'TM', 'Tm', 'SLP', 'H', 'VV', 'V', 'VM', 'PM2.5'], dtype='object')"
            ]
          },
          "metadata": {
            "tags": []
          },
          "execution_count": 18
        }
      ]
    },
    {
      "cell_type": "code",
      "metadata": {
        "colab": {
          "base_uri": "https://localhost:8080/"
        },
        "id": "BhmaThLsVdsk",
        "outputId": "a25c1869-fa03-4b82-a9b7-7a5775223c48"
      },
      "source": [
        "## checking feature importance \r\n",
        "from sklearn.ensemble import ExtraTreesRegressor\r\n",
        "import matplotlib.pyplot as plt\r\n",
        "model = ExtraTreesRegressor()\r\n",
        "model.fit(X,y)"
      ],
      "execution_count": 19,
      "outputs": [
        {
          "output_type": "execute_result",
          "data": {
            "text/plain": [
              "ExtraTreesRegressor(bootstrap=False, ccp_alpha=0.0, criterion='mse',\n",
              "                    max_depth=None, max_features='auto', max_leaf_nodes=None,\n",
              "                    max_samples=None, min_impurity_decrease=0.0,\n",
              "                    min_impurity_split=None, min_samples_leaf=1,\n",
              "                    min_samples_split=2, min_weight_fraction_leaf=0.0,\n",
              "                    n_estimators=100, n_jobs=None, oob_score=False,\n",
              "                    random_state=None, verbose=0, warm_start=False)"
            ]
          },
          "metadata": {
            "tags": []
          },
          "execution_count": 19
        }
      ]
    },
    {
      "cell_type": "code",
      "metadata": {
        "colab": {
          "base_uri": "https://localhost:8080/",
          "height": 195
        },
        "id": "CVTtrBvlVrd-",
        "outputId": "2704b906-2821-47fb-b3fd-a5ad7d78172b"
      },
      "source": [
        "X.head()"
      ],
      "execution_count": 20,
      "outputs": [
        {
          "output_type": "execute_result",
          "data": {
            "text/html": [
              "<div>\n",
              "<style scoped>\n",
              "    .dataframe tbody tr th:only-of-type {\n",
              "        vertical-align: middle;\n",
              "    }\n",
              "\n",
              "    .dataframe tbody tr th {\n",
              "        vertical-align: top;\n",
              "    }\n",
              "\n",
              "    .dataframe thead th {\n",
              "        text-align: right;\n",
              "    }\n",
              "</style>\n",
              "<table border=\"1\" class=\"dataframe\">\n",
              "  <thead>\n",
              "    <tr style=\"text-align: right;\">\n",
              "      <th></th>\n",
              "      <th>T</th>\n",
              "      <th>TM</th>\n",
              "      <th>Tm</th>\n",
              "      <th>SLP</th>\n",
              "      <th>H</th>\n",
              "      <th>VV</th>\n",
              "      <th>V</th>\n",
              "      <th>VM</th>\n",
              "    </tr>\n",
              "  </thead>\n",
              "  <tbody>\n",
              "    <tr>\n",
              "      <th>0</th>\n",
              "      <td>29.3</td>\n",
              "      <td>34.1</td>\n",
              "      <td>26.5</td>\n",
              "      <td>1004.7</td>\n",
              "      <td>83.0</td>\n",
              "      <td>4.5</td>\n",
              "      <td>1.9</td>\n",
              "      <td>3.5</td>\n",
              "    </tr>\n",
              "    <tr>\n",
              "      <th>1</th>\n",
              "      <td>29.0</td>\n",
              "      <td>34.0</td>\n",
              "      <td>25.8</td>\n",
              "      <td>1007.0</td>\n",
              "      <td>79.0</td>\n",
              "      <td>4.5</td>\n",
              "      <td>0.6</td>\n",
              "      <td>3.5</td>\n",
              "    </tr>\n",
              "    <tr>\n",
              "      <th>2</th>\n",
              "      <td>28.9</td>\n",
              "      <td>32.3</td>\n",
              "      <td>27.2</td>\n",
              "      <td>1008.5</td>\n",
              "      <td>84.0</td>\n",
              "      <td>5.0</td>\n",
              "      <td>0.7</td>\n",
              "      <td>3.5</td>\n",
              "    </tr>\n",
              "    <tr>\n",
              "      <th>3</th>\n",
              "      <td>28.1</td>\n",
              "      <td>33.0</td>\n",
              "      <td>26.4</td>\n",
              "      <td>1004.8</td>\n",
              "      <td>84.0</td>\n",
              "      <td>4.5</td>\n",
              "      <td>0.7</td>\n",
              "      <td>3.5</td>\n",
              "    </tr>\n",
              "    <tr>\n",
              "      <th>4</th>\n",
              "      <td>28.8</td>\n",
              "      <td>33.5</td>\n",
              "      <td>26.6</td>\n",
              "      <td>1004.3</td>\n",
              "      <td>79.0</td>\n",
              "      <td>4.7</td>\n",
              "      <td>0.6</td>\n",
              "      <td>3.5</td>\n",
              "    </tr>\n",
              "  </tbody>\n",
              "</table>\n",
              "</div>"
            ],
            "text/plain": [
              "      T    TM    Tm     SLP     H   VV    V   VM\n",
              "0  29.3  34.1  26.5  1004.7  83.0  4.5  1.9  3.5\n",
              "1  29.0  34.0  25.8  1007.0  79.0  4.5  0.6  3.5\n",
              "2  28.9  32.3  27.2  1008.5  84.0  5.0  0.7  3.5\n",
              "3  28.1  33.0  26.4  1004.8  84.0  4.5  0.7  3.5\n",
              "4  28.8  33.5  26.6  1004.3  79.0  4.7  0.6  3.5"
            ]
          },
          "metadata": {
            "tags": []
          },
          "execution_count": 20
        }
      ]
    },
    {
      "cell_type": "code",
      "metadata": {
        "colab": {
          "base_uri": "https://localhost:8080/"
        },
        "id": "akN7WWoZVuGY",
        "outputId": "ed8b6e2c-8ca3-4a66-dc8d-c6f094115fe1"
      },
      "source": [
        "print(model.feature_importances_)"
      ],
      "execution_count": 21,
      "outputs": [
        {
          "output_type": "stream",
          "text": [
            "[0.11010073 0.12391212 0.16150371 0.13372096 0.11531772 0.13756742\n",
            " 0.11773957 0.10013776]\n"
          ],
          "name": "stdout"
        }
      ]
    },
    {
      "cell_type": "code",
      "metadata": {
        "colab": {
          "base_uri": "https://localhost:8080/",
          "height": 265
        },
        "id": "zk0qXNIpVw_j",
        "outputId": "ae743069-f9ed-4180-ee04-7a7975ae3561"
      },
      "source": [
        "feat_importances = pd.Series(model.feature_importances_, index=X.columns)\r\n",
        "feat_importances.nlargest(5).plot(kind='barh')\r\n",
        "plt.show()"
      ],
      "execution_count": 22,
      "outputs": [
        {
          "output_type": "display_data",
          "data": {
            "image/png": "[encoded data removed]",
            "text/plain": [
              "<Figure size 432x288 with 1 Axes>"
            ]
          },
          "metadata": {
            "tags": [],
            "needs_background": "light"
          }
        }
      ]
    },
    {
      "cell_type": "code",
      "metadata": {
        "colab": {
          "base_uri": "https://localhost:8080/",
          "height": 350
        },
        "id": "-Lbr1b_aV1eA",
        "outputId": "1b8b76ae-babc-4c0e-a8be-3e3bbfb3b7a8"
      },
      "source": [
        "sns.distplot(y)"
      ],
      "execution_count": 23,
      "outputs": [
        {
          "output_type": "stream",
          "text": [
            "/usr/local/lib/python3.6/dist-packages/seaborn/distributions.py:2557: FutureWarning: `distplot` is a deprecated function and will be removed in a future version. Please adapt your code to use either `displot` (a figure-level function with similar flexibility) or `histplot` (an axes-level function for histograms).\n",
            "  warnings.warn(msg, FutureWarning)\n"
          ],
          "name": "stderr"
        },
        {
          "output_type": "execute_result",
          "data": {
            "text/plain": [
              "<matplotlib.axes._subplots.AxesSubplot at 0x7f5982d22be0>"
            ]
          },
          "metadata": {
            "tags": []
          },
          "execution_count": 23
        },
        {
          "output_type": "display_data",
          "data": {
            "image/png": "[encoded data removed]",
            "text/plain": [
              "<Figure size 432x288 with 1 Axes>"
            ]
          },
          "metadata": {
            "tags": [],
            "needs_background": "light"
          }
        }
      ]
    },
    {
      "cell_type": "code",
      "metadata": {
        "id": "X3lLVKWZV5ta"
      },
      "source": [
        "## using linear regression\r\n",
        "from sklearn.model_selection import train_test_split\r\n",
        "X_train, X_test, y_train, y_test = train_test_split(X, y, test_size=0.1, random_state=0)"
      ],
      "execution_count": 24,
      "outputs": []
    },
    {
      "cell_type": "code",
      "metadata": {
        "colab": {
          "base_uri": "https://localhost:8080/"
        },
        "id": "qQw_b0lAV_mO",
        "outputId": "3b9f39ba-0178-433a-fcb4-f60eece27ba1"
      },
      "source": [
        "from sklearn.linear_model import LinearRegression\r\n",
        "regressor=LinearRegression()\r\n",
        "regressor.fit(X_train,y_train)"
      ],
      "execution_count": 25,
      "outputs": [
        {
          "output_type": "execute_result",
          "data": {
            "text/plain": [
              "LinearRegression(copy_X=True, fit_intercept=True, n_jobs=None, normalize=False)"
            ]
          },
          "metadata": {
            "tags": []
          },
          "execution_count": 25
        }
      ]
    },
    {
      "cell_type": "code",
      "metadata": {
        "colab": {
          "base_uri": "https://localhost:8080/"
        },
        "id": "IqoxAu6_WFsf",
        "outputId": "843324cd-9f0b-4cce-a0d7-71412aa64f4e"
      },
      "source": [
        "regressor.coef_"
      ],
      "execution_count": 26,
      "outputs": [
        {
          "output_type": "execute_result",
          "data": {
            "text/plain": [
              "array([ -0.48830068,  -6.22058868,   9.31507966,   0.79706186,\n",
              "        -0.90793903, -22.25757831,  -2.04375247,  -0.26461291])"
            ]
          },
          "metadata": {
            "tags": []
          },
          "execution_count": 26
        }
      ]
    },
    {
      "cell_type": "code",
      "metadata": {
        "colab": {
          "base_uri": "https://localhost:8080/"
        },
        "id": "mmmX_i5PWL-1",
        "outputId": "b7d2b4dd-bcdc-415d-ce57-8cb2e48e0505"
      },
      "source": [
        "regressor.intercept_"
      ],
      "execution_count": 27,
      "outputs": [
        {
          "output_type": "execute_result",
          "data": {
            "text/plain": [
              "-488.07692200496234"
            ]
          },
          "metadata": {
            "tags": []
          },
          "execution_count": 27
        }
      ]
    },
    {
      "cell_type": "code",
      "metadata": {
        "colab": {
          "base_uri": "https://localhost:8080/"
        },
        "id": "C8yFHj7aWObW",
        "outputId": "361d7381-d271-4cc8-f67c-ea6554927bea"
      },
      "source": [
        "print(\"Coefficient of determination R^2 <-- on train set: {}\".format(regressor.score(X_train, y_train)))"
      ],
      "execution_count": 28,
      "outputs": [
        {
          "output_type": "stream",
          "text": [
            "Coefficient of determination R^2 <-- on train set: 0.11404029638160994\n"
          ],
          "name": "stdout"
        }
      ]
    },
    {
      "cell_type": "code",
      "metadata": {
        "colab": {
          "base_uri": "https://localhost:8080/"
        },
        "id": "5N-hUVCNWSKA",
        "outputId": "909e31bb-c0f7-4bde-8f16-0b7b96a75ca0"
      },
      "source": [
        "print(\"Coefficient of determination R^2 <-- on train set: {}\".format(regressor.score(X_test, y_test)))"
      ],
      "execution_count": 29,
      "outputs": [
        {
          "output_type": "stream",
          "text": [
            "Coefficient of determination R^2 <-- on train set: 0.1271517569489442\n"
          ],
          "name": "stdout"
        }
      ]
    },
    {
      "cell_type": "code",
      "metadata": {
        "id": "cF9vdBvXWVN0"
      },
      "source": [
        "from sklearn.model_selection import cross_val_score\r\n",
        "score=cross_val_score(regressor,X,y,cv=5)"
      ],
      "execution_count": 30,
      "outputs": []
    },
    {
      "cell_type": "code",
      "metadata": {
        "colab": {
          "base_uri": "https://localhost:8080/"
        },
        "id": "XMagCGhfWYP5",
        "outputId": "1a5d51f0-3a1b-49fc-9251-b1136cd0204f"
      },
      "source": [
        "score.mean()"
      ],
      "execution_count": 31,
      "outputs": [
        {
          "output_type": "execute_result",
          "data": {
            "text/plain": [
              "-0.7919452063812067"
            ]
          },
          "metadata": {
            "tags": []
          },
          "execution_count": 31
        }
      ]
    },
    {
      "cell_type": "code",
      "metadata": {
        "colab": {
          "base_uri": "https://localhost:8080/",
          "height": 284
        },
        "id": "KVE3Kdo8Wapq",
        "outputId": "883d9fa7-377f-4bb5-9beb-84d027787c0e"
      },
      "source": [
        "coeff_df = pd.DataFrame(regressor.coef_,X.columns,columns=['Coefficient'])\r\n",
        "coeff_df"
      ],
      "execution_count": 32,
      "outputs": [
        {
          "output_type": "execute_result",
          "data": {
            "text/html": [
              "<div>\n",
              "<style scoped>\n",
              "    .dataframe tbody tr th:only-of-type {\n",
              "        vertical-align: middle;\n",
              "    }\n",
              "\n",
              "    .dataframe tbody tr th {\n",
              "        vertical-align: top;\n",
              "    }\n",
              "\n",
              "    .dataframe thead th {\n",
              "        text-align: right;\n",
              "    }\n",
              "</style>\n",
              "<table border=\"1\" class=\"dataframe\">\n",
              "  <thead>\n",
              "    <tr style=\"text-align: right;\">\n",
              "      <th></th>\n",
              "      <th>Coefficient</th>\n",
              "    </tr>\n",
              "  </thead>\n",
              "  <tbody>\n",
              "    <tr>\n",
              "      <th>T</th>\n",
              "      <td>-0.488301</td>\n",
              "    </tr>\n",
              "    <tr>\n",
              "      <th>TM</th>\n",
              "      <td>-6.220589</td>\n",
              "    </tr>\n",
              "    <tr>\n",
              "      <th>Tm</th>\n",
              "      <td>9.315080</td>\n",
              "    </tr>\n",
              "    <tr>\n",
              "      <th>SLP</th>\n",
              "      <td>0.797062</td>\n",
              "    </tr>\n",
              "    <tr>\n",
              "      <th>H</th>\n",
              "      <td>-0.907939</td>\n",
              "    </tr>\n",
              "    <tr>\n",
              "      <th>VV</th>\n",
              "      <td>-22.257578</td>\n",
              "    </tr>\n",
              "    <tr>\n",
              "      <th>V</th>\n",
              "      <td>-2.043752</td>\n",
              "    </tr>\n",
              "    <tr>\n",
              "      <th>VM</th>\n",
              "      <td>-0.264613</td>\n",
              "    </tr>\n",
              "  </tbody>\n",
              "</table>\n",
              "</div>"
            ],
            "text/plain": [
              "     Coefficient\n",
              "T      -0.488301\n",
              "TM     -6.220589\n",
              "Tm      9.315080\n",
              "SLP     0.797062\n",
              "H      -0.907939\n",
              "VV    -22.257578\n",
              "V      -2.043752\n",
              "VM     -0.264613"
            ]
          },
          "metadata": {
            "tags": []
          },
          "execution_count": 32
        }
      ]
    },
    {
      "cell_type": "code",
      "metadata": {
        "id": "czy-QVlPWeSS"
      },
      "source": [
        "prediction=regressor.predict(X_test)"
      ],
      "execution_count": 33,
      "outputs": []
    },
    {
      "cell_type": "code",
      "metadata": {
        "colab": {
          "base_uri": "https://localhost:8080/",
          "height": 350
        },
        "id": "iVOwe_F9WjUw",
        "outputId": "60fd55d5-362b-400e-feba-e92afc47cc22"
      },
      "source": [
        "sns.distplot(y_test-prediction)"
      ],
      "execution_count": 34,
      "outputs": [
        {
          "output_type": "stream",
          "text": [
            "/usr/local/lib/python3.6/dist-packages/seaborn/distributions.py:2557: FutureWarning: `distplot` is a deprecated function and will be removed in a future version. Please adapt your code to use either `displot` (a figure-level function with similar flexibility) or `histplot` (an axes-level function for histograms).\n",
            "  warnings.warn(msg, FutureWarning)\n"
          ],
          "name": "stderr"
        },
        {
          "output_type": "execute_result",
          "data": {
            "text/plain": [
              "<matplotlib.axes._subplots.AxesSubplot at 0x7f5982c7b898>"
            ]
          },
          "metadata": {
            "tags": []
          },
          "execution_count": 34
        },
        {
          "output_type": "display_data",
          "data": {
            "image/png": "[encoded data removed]",
            "text/plain": [
              "<Figure size 432x288 with 1 Axes>"
            ]
          },
          "metadata": {
            "tags": [],
            "needs_background": "light"
          }
        }
      ]
    },
    {
      "cell_type": "code",
      "metadata": {
        "colab": {
          "base_uri": "https://localhost:8080/",
          "height": 282
        },
        "id": "EeHN6-T1WmB6",
        "outputId": "6ec7d9c7-2a87-4b46-f088-6a7df05fdb97"
      },
      "source": [
        "plt.scatter(y_test,prediction)"
      ],
      "execution_count": 35,
      "outputs": [
        {
          "output_type": "execute_result",
          "data": {
            "text/plain": [
              "<matplotlib.collections.PathCollection at 0x7f5982baeba8>"
            ]
          },
          "metadata": {
            "tags": []
          },
          "execution_count": 35
        },
        {
          "output_type": "display_data",
          "data": {
            "image/png": "[encoded data removed]",
            "text/plain": [
              "<Figure size 432x288 with 1 Axes>"
            ]
          },
          "metadata": {
            "tags": [],
            "needs_background": "light"
          }
        }
      ]
    },
    {
      "cell_type": "code",
      "metadata": {
        "id": "rSdbRNt-WuDB"
      },
      "source": [
        "from sklearn import metrics"
      ],
      "execution_count": 36,
      "outputs": []
    },
    {
      "cell_type": "code",
      "metadata": {
        "colab": {
          "base_uri": "https://localhost:8080/"
        },
        "id": "ECQWKVbhWyhh",
        "outputId": "07f3b459-9c24-4761-d110-7f6b3081807b"
      },
      "source": [
        "print('MAE:', metrics.mean_absolute_error(y_test, prediction))\r\n",
        "print('MSE:', metrics.mean_squared_error(y_test, prediction))\r\n",
        "print('RMSE:', np.sqrt(metrics.mean_squared_error(y_test, prediction)))\r\n",
        "print(\"R2 score =\", round(metrics.r2_score(y_test, prediction), 2))"
      ],
      "execution_count": 37,
      "outputs": [
        {
          "output_type": "stream",
          "text": [
            "MAE: 47.03052327032813\n",
            "MSE: 3307.2561627150376\n",
            "RMSE: 57.50874857545622\n",
            "R2 score = 0.13\n"
          ],
          "name": "stdout"
        }
      ]
    }
  ]
}