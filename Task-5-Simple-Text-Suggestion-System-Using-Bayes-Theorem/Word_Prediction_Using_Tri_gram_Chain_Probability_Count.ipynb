{
  "nbformat": 4,
  "nbformat_minor": 0,
  "metadata": {
    "colab": {
      "name": "Word_Prediction_Using_Tri_gram_Chain_Probability_Count.ipynb",
      "provenance": [],
      "collapsed_sections": []
    },
    "kernelspec": {
      "name": "python3",
      "display_name": "Python 3"
    }
  },
  "cells": [
    {
      "cell_type": "code",
      "metadata": {
        "id": "NVT29q6eemCD"
      },
      "source": [
        "import nltk\r\n",
        "from nltk import bigrams, trigrams\r\n",
        "from collections import Counter, defaultdict\r\n",
        "import os"
      ],
      "execution_count": 22,
      "outputs": []
    },
    {
      "cell_type": "code",
      "metadata": {
        "colab": {
          "base_uri": "https://localhost:8080/"
        },
        "id": "8KITSk9Oe9-Y",
        "outputId": "d9d3e538-7588-4994-9c6f-686e9c724549"
      },
      "source": [
        "nltk.download('reuters')\r\n",
        "nltk.download('punkt')"
      ],
      "execution_count": 23,
      "outputs": [
        {
          "output_type": "stream",
          "text": [
            "[nltk_data] Downloading package reuters to /root/nltk_data...\n",
            "[nltk_data]   Package reuters is already up-to-date!\n",
            "[nltk_data] Downloading package punkt to /root/nltk_data...\n",
            "[nltk_data]   Package punkt is already up-to-date!\n"
          ],
          "name": "stdout"
        },
        {
          "output_type": "execute_result",
          "data": {
            "text/plain": [
              "True"
            ]
          },
          "metadata": {
            "tags": []
          },
          "execution_count": 23
        }
      ]
    },
    {
      "cell_type": "code",
      "metadata": {
        "id": "F2YJBNjKhp2j"
      },
      "source": [
        "from nltk.corpus import reuters\r\n",
        "def tryToLower(u):\r\n",
        "  if type(u)==str:\r\n",
        "    return u.lower()\r\n",
        "  return u"
      ],
      "execution_count": 24,
      "outputs": []
    },
    {
      "cell_type": "code",
      "metadata": {
        "id": "ohdPFVeGfCag"
      },
      "source": [
        "# Create a placeholder for model\r\n",
        "model1 = defaultdict(lambda: 0)\r\n",
        "model2 = defaultdict(lambda: defaultdict(lambda: 0))\r\n",
        "model3 = defaultdict(lambda: defaultdict(lambda: 0))\r\n",
        "model4 = defaultdict(lambda: set())\r\n",
        "model5 = defaultdict(lambda: set())\r\n",
        "\r\n",
        "total_word=0\r\n",
        "\r\n",
        "# Count frequency of co-occurance  \r\n",
        "for sentence in reuters.sents():\r\n",
        "  for word in sentence:\r\n",
        "    model1[word]+=1\r\n",
        "    total_word+=1\r\n",
        "  for w1, w2, w3 in trigrams(sentence, pad_right=True, pad_left=True):\r\n",
        "    w1=tryToLower(w1)\r\n",
        "    w2=tryToLower(w2)\r\n",
        "    w3=tryToLower(w3)\r\n",
        "    model2[w3][w2] += 1\r\n",
        "    model3[w3][w1] += 1\r\n",
        "    model4[w2].add(w3)\r\n",
        "    model5[w1].add(w3)"
      ],
      "execution_count": 25,
      "outputs": []
    },
    {
      "cell_type": "code",
      "metadata": {
        "id": "wO7pUG7ZjQ1J"
      },
      "source": [
        "def calculateProbablities(model):\r\n",
        "  for wNext in model:\r\n",
        "    total_count = float(sum(model[wNext].values()))\r\n",
        "    for wPrev in model[wNext]:\r\n",
        "        model[wNext][wPrev] /= total_count"
      ],
      "execution_count": 19,
      "outputs": []
    },
    {
      "cell_type": "code",
      "metadata": {
        "id": "yJtUy-s_llSi"
      },
      "source": [
        "calculateProbablities(model2)\r\n",
        "calculateProbablities(model3)\r\n",
        "\r\n",
        "for word in model1:\r\n",
        "  model1[word] /=total_word"
      ],
      "execution_count": 26,
      "outputs": []
    },
    {
      "cell_type": "code",
      "metadata": {
        "id": "hYyDZ4lFfGZC"
      },
      "source": [
        "def calculateTrigramProbabilityChain(w1,w2,w3):\r\n",
        "  return model1[w3]*model2[w3][w2]*model3[w3][w1]"
      ],
      "execution_count": 27,
      "outputs": []
    },
    {
      "cell_type": "code",
      "metadata": {
        "colab": {
          "base_uri": "https://localhost:8080/"
        },
        "id": "O11UC2cWka7X",
        "outputId": "5f1680e8-b56e-44c8-d293-b2c12189ca64"
      },
      "source": [
        "best10=[]\r\n",
        "def trigramSuggestions(w1,w2):\r\n",
        "  for w3 in model4[w2] & model5[w1]:\r\n",
        "    sc=calculateTrigramProbabilityChain(w1,w2,w3)\r\n",
        "    # print(wNext,sc)\r\n",
        "    best10.append((w3,sc))\r\n",
        "\r\n",
        "trigramSuggestions('this','is')\r\n",
        "best10.sort(key=lambda o: o[1],reverse=True)\r\n",
        "print(*best10[:10])"
      ],
      "execution_count": 29,
      "outputs": [
        {
          "output_type": "stream",
          "text": [
            "('not', 1.4807434758670995e-06) ('due', 9.287062083948189e-07) ('expected', 8.017113195705539e-07) ('a', 7.12241730296221e-07) ('amore', 5.810855491578036e-07) ('likely', 4.55780658247161e-07) ('going', 4.4431597720133996e-07) ('now', 3.6627114930279654e-07) ('to', 3.546577864798332e-07) ('unlikely', 3.3777278863311074e-07)\n"
          ],
          "name": "stdout"
        }
      ]
    },
    {
      "cell_type": "code",
      "metadata": {
        "id": "n70muijHk3Dx"
      },
      "source": [
        "# type(predictions)"
      ],
      "execution_count": null,
      "outputs": []
    },
    {
      "cell_type": "code",
      "metadata": {
        "id": "0qqpiAPwl-0f"
      },
      "source": [
        "# top_predicted = dict(sorted(predictions.items(), key=lambda item: item[1],reverse=True))"
      ],
      "execution_count": 57,
      "outputs": []
    },
    {
      "cell_type": "code",
      "metadata": {
        "id": "kyxcJrXtoQnt"
      },
      "source": [
        "# top_keys = []\r\n",
        "# for x in top_predicted.keys():\r\n",
        "#   top_keys.append(x)"
      ],
      "execution_count": null,
      "outputs": []
    },
    {
      "cell_type": "code",
      "metadata": {
        "id": "Ov2etx8pphF1"
      },
      "source": [
        "# for i in range(10):\r\n",
        "#   print(top_keys[i],top_predicted[top_keys[i]])"
      ],
      "execution_count": null,
      "outputs": []
    },
    {
      "cell_type": "code",
      "metadata": {
        "id": "jC2bSji5ydo2"
      },
      "source": [
        ""
      ],
      "execution_count": null,
      "outputs": []
    }
  ]
}