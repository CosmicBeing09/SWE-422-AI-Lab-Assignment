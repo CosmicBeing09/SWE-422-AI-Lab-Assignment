{
  "nbformat": 4,
  "nbformat_minor": 0,
  "metadata": {
    "colab": {
      "name": "Word_Prediction_Using_Tri_gram.ipynb",
      "provenance": []
    },
    "kernelspec": {
      "name": "python3",
      "display_name": "Python 3"
    }
  },
  "cells": [
    {
      "cell_type": "code",
      "metadata": {
        "id": "LsYHUMbG-1_C"
      },
      "source": [
        "import nltk\r\n",
        "from nltk import bigrams, trigrams\r\n",
        "from collections import Counter, defaultdict\r\n",
        "import os"
      ],
      "execution_count": 11,
      "outputs": []
    },
    {
      "cell_type": "code",
      "metadata": {
        "colab": {
          "base_uri": "https://localhost:8080/"
        },
        "id": "_2aRGxXA-5-v",
        "outputId": "cd5f4d81-f286-4ca7-a33e-ab45876274d4"
      },
      "source": [
        "nltk.download('reuters')\r\n",
        "nltk.download('punkt')"
      ],
      "execution_count": 12,
      "outputs": [
        {
          "output_type": "stream",
          "text": [
            "[nltk_data] Downloading package reuters to /root/nltk_data...\n",
            "[nltk_data]   Package reuters is already up-to-date!\n",
            "[nltk_data] Downloading package punkt to /root/nltk_data...\n",
            "[nltk_data]   Package punkt is already up-to-date!\n"
          ],
          "name": "stdout"
        },
        {
          "output_type": "execute_result",
          "data": {
            "text/plain": [
              "True"
            ]
          },
          "metadata": {
            "tags": []
          },
          "execution_count": 12
        }
      ]
    },
    {
      "cell_type": "code",
      "metadata": {
        "id": "Wo8nvf4o-8T7"
      },
      "source": [
        "from nltk.corpus import reuters"
      ],
      "execution_count": 13,
      "outputs": []
    },
    {
      "cell_type": "code",
      "metadata": {
        "id": "vIy4WWz7--nk"
      },
      "source": [
        "# Create a placeholder for model\r\n",
        "model = defaultdict(lambda: defaultdict(lambda: 0))\r\n",
        "\r\n",
        "# Count frequency of co-occurance  \r\n",
        "for sentence in reuters.sents():\r\n",
        "  # print(sentence)\r\n",
        "  for w1, w2, w3 in trigrams(sentence, pad_right=True, pad_left=True):\r\n",
        "    model[(w1, w2)][w3] += 1"
      ],
      "execution_count": 14,
      "outputs": []
    },
    {
      "cell_type": "code",
      "metadata": {
        "id": "fQ6_2FpT_FVx"
      },
      "source": [
        "# Let's transform the counts to probabilities\r\n",
        "for w1_w2 in model:\r\n",
        "  total_count = float(sum(model[w1_w2].values()))\r\n",
        "  for w3 in model[w1_w2]:\r\n",
        "    model[w1_w2][w3] /= total_count"
      ],
      "execution_count": 15,
      "outputs": []
    },
    {
      "cell_type": "code",
      "metadata": {
        "id": "y4OLKEzd_WjZ"
      },
      "source": [
        "#predicting the next word\r\n",
        "predictions =  dict(model[\"this\", \"is\"])"
      ],
      "execution_count": 16,
      "outputs": []
    },
    {
      "cell_type": "code",
      "metadata": {
        "colab": {
          "base_uri": "https://localhost:8080/"
        },
        "id": "Vmu52Y9z_Y45",
        "outputId": "db8aa972-24ce-496d-92b7-2f02326c65cb"
      },
      "source": [
        "type(predictions)"
      ],
      "execution_count": 17,
      "outputs": [
        {
          "output_type": "execute_result",
          "data": {
            "text/plain": [
              "dict"
            ]
          },
          "metadata": {
            "tags": []
          },
          "execution_count": 17
        }
      ]
    },
    {
      "cell_type": "code",
      "metadata": {
        "colab": {
          "base_uri": "https://localhost:8080/"
        },
        "id": "QIq5DYCf_al1",
        "outputId": "3b7462c9-383a-4d10-fe2f-c8c1f72b3cab"
      },
      "source": [
        "top_predicted = dict(sorted(predictions.items(), key=lambda item: item[1],reverse=True))\r\n",
        "top_predicted"
      ],
      "execution_count": 18,
      "outputs": [
        {
          "output_type": "execute_result",
          "data": {
            "text/plain": [
              "{'700': 0.018867924528301886,\n",
              " 'a': 0.24528301886792453,\n",
              " 'about': 0.018867924528301886,\n",
              " 'also': 0.018867924528301886,\n",
              " 'an': 0.03773584905660377,\n",
              " 'approved': 0.018867924528301886,\n",
              " 'available': 0.018867924528301886,\n",
              " 'believed': 0.018867924528301886,\n",
              " 'definitely': 0.018867924528301886,\n",
              " 'done': 0.03773584905660377,\n",
              " 'expected': 0.018867924528301886,\n",
              " 'hardly': 0.03773584905660377,\n",
              " 'most': 0.018867924528301886,\n",
              " 'not': 0.07547169811320754,\n",
              " 'now': 0.018867924528301886,\n",
              " 'partly': 0.018867924528301886,\n",
              " 'possible': 0.018867924528301886,\n",
              " 'probably': 0.018867924528301886,\n",
              " 'still': 0.018867924528301886,\n",
              " 'the': 0.24528301886792453,\n",
              " 'underpinning': 0.018867924528301886,\n",
              " 'unlikely': 0.018867924528301886,\n",
              " 'within': 0.018867924528301886}"
            ]
          },
          "metadata": {
            "tags": []
          },
          "execution_count": 18
        }
      ]
    },
    {
      "cell_type": "code",
      "metadata": {
        "colab": {
          "base_uri": "https://localhost:8080/"
        },
        "id": "88yrS85J_fC9",
        "outputId": "37a0c00e-12ef-480d-deb0-122b00434fc1"
      },
      "source": [
        "top_keys = []\r\n",
        "for x in top_predicted.keys():\r\n",
        "  top_keys.append(x)\r\n",
        "\r\n",
        "for i in range(10):\r\n",
        "  print(top_keys[i],top_predicted[top_keys[i]])"
      ],
      "execution_count": 19,
      "outputs": [
        {
          "output_type": "stream",
          "text": [
            "a 0.24528301886792453\n",
            "the 0.24528301886792453\n",
            "not 0.07547169811320754\n",
            "hardly 0.03773584905660377\n",
            "done 0.03773584905660377\n",
            "an 0.03773584905660377\n",
            "believed 0.018867924528301886\n",
            "partly 0.018867924528301886\n",
            "most 0.018867924528301886\n",
            "definitely 0.018867924528301886\n"
          ],
          "name": "stdout"
        }
      ]
    },
    {
      "cell_type": "code",
      "metadata": {
        "id": "z7bddj0B_omT"
      },
      "source": [
        ""
      ],
      "execution_count": null,
      "outputs": []
    }
  ]
}